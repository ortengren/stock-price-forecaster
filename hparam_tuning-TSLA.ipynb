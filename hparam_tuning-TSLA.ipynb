{
 "cells": [
  {
   "cell_type": "code",
   "execution_count": 1,
   "id": "0617e923-5bed-41b5-bd6c-4bb3262edeb7",
   "metadata": {},
   "outputs": [
    {
     "name": "stderr",
     "output_type": "stream",
     "text": [
      "2024-08-04 15:49:22.652264: I tensorflow/core/platform/cpu_feature_guard.cc:210] This TensorFlow binary is optimized to use available CPU instructions in performance-critical operations.\n",
      "To enable the following instructions: SSE4.1 SSE4.2 AVX AVX2 FMA, in other operations, rebuild TensorFlow with the appropriate compiler flags.\n"
     ]
    }
   ],
   "source": [
    "import json\n",
    "import copy\n",
    "import joblib\n",
    "import numpy as np\n",
    "import pandas as pd\n",
    "import matplotlib.pyplot as plt\n",
    "import tensorflow as tf\n",
    "import keras\n",
    "import keras_tuner\n",
    "from dataclasses import dataclass\n",
    "from typing import List\n",
    "from keras import layers, ops\n",
    "from keras.utils import timeseries_dataset_from_array\n",
    "from sklearn.metrics import mean_squared_error\n",
    "from sklearn.preprocessing import MinMaxScaler, StandardScaler, PowerTransformer\n",
    "from sklearn.linear_model import LinearRegression\n",
    "%matplotlib inline\n",
    "\n",
    "from processing import Stationarizer, Normalizer\n",
    "#from tuner import LSTMLayerHyperparams, ModelHyperparams\n",
    "from plotting import visualize_loss, show_plot\n",
    "from model_builder import build_model, build_spec_model, get_tuner"
   ]
  },
  {
   "cell_type": "code",
   "execution_count": 2,
   "id": "b861f11e-bbd7-435e-a2df-b233af6e991c",
   "metadata": {},
   "outputs": [],
   "source": [
    "data = pd.read_csv(\"data/YF_TSLA.csv\")[\"Adj Close\"].to_numpy().reshape(-1, 1)"
   ]
  },
  {
   "cell_type": "code",
   "execution_count": 3,
   "id": "bacd25fc-707d-49e7-824d-47921a468fef",
   "metadata": {},
   "outputs": [],
   "source": [
    "normer = Normalizer()\n",
    "normer.fit(data)"
   ]
  },
  {
   "cell_type": "code",
   "execution_count": 4,
   "id": "e6a6e81c-960c-4519-947f-81142a70526b",
   "metadata": {},
   "outputs": [],
   "source": [
    "train_idx = int(0.7 * np.shape(data)[0])\n",
    "val_idx = int(0.85 * np.shape(data)[0])\n",
    "\n",
    "train_data = data[:train_idx]\n",
    "val_data = data[train_idx:val_idx]\n",
    "non_test_data = data[:val_idx]\n",
    "test_data = data[val_idx:]"
   ]
  },
  {
   "cell_type": "code",
   "execution_count": 5,
   "id": "ea1a32e3-f04f-4177-bebd-de0c19056d8b",
   "metadata": {},
   "outputs": [],
   "source": [
    "train_data = normer.transform(train_data)\n",
    "val_data = normer.transform(val_data)"
   ]
  },
  {
   "cell_type": "code",
   "execution_count": 6,
   "id": "e41fe917-dfe6-4e4d-bb58-0a7945487e02",
   "metadata": {},
   "outputs": [],
   "source": [
    "#train_data"
   ]
  },
  {
   "cell_type": "code",
   "execution_count": 7,
   "id": "f3164a0a-344a-45c3-8313-d17ff2b02e4c",
   "metadata": {},
   "outputs": [],
   "source": [
    "#joblib.dump(normer, \"TSLA_normer.gz\")"
   ]
  },
  {
   "cell_type": "code",
   "execution_count": 8,
   "id": "429e28e9-f577-4bf1-ad11-e82578865590",
   "metadata": {},
   "outputs": [
    {
     "name": "stdout",
     "output_type": "stream",
     "text": [
      "tf.Tensor(\n",
      "[[-0.55663938]\n",
      " [-0.55707731]\n",
      " [-0.5582473 ]\n",
      " [-0.5663523 ]\n",
      " [-0.55863294]\n",
      " [-0.55928658]\n",
      " [-0.5573453 ]\n",
      " [-0.55776361]\n",
      " [-0.56178997]\n",
      " [-0.55767864]\n",
      " [-0.55516218]\n",
      " [-0.57084925]\n",
      " [-0.57321538]\n",
      " [-0.57411085]\n",
      " [-0.57657503]\n",
      " [-0.57605212]\n",
      " [-0.57321538]\n",
      " [-0.57279707]\n",
      " [-0.56505811]\n",
      " [-0.56131283]], shape=(20, 1), dtype=float64)\n",
      "tf.Tensor([-0.56488817], shape=(1,), dtype=float64)\n",
      "Input shape: (64, 20, 1)\n",
      "Target shape: (64, 1)\n"
     ]
    },
    {
     "name": "stderr",
     "output_type": "stream",
     "text": [
      "2024-08-04 15:49:27.742496: W tensorflow/core/framework/local_rendezvous.cc:404] Local rendezvous is aborting with status: OUT_OF_RANGE: End of sequence\n"
     ]
    }
   ],
   "source": [
    "train_ds = timeseries_dataset_from_array(\n",
    "    train_data[:-20],\n",
    "    train_data[20:],\n",
    "    sequence_length=20,\n",
    "    batch_size=64,\n",
    "    shuffle=True\n",
    ")\n",
    "val_ds = timeseries_dataset_from_array(\n",
    "    val_data[:-20],\n",
    "    val_data[20:],\n",
    "    sequence_length=20,\n",
    "    batch_size=64,\n",
    "    shuffle=True\n",
    ")\n",
    "\n",
    "for batch in train_ds.take(1):\n",
    "    inputs, targets = batch\n",
    "    print(inputs[0])\n",
    "    print(targets[0])\n",
    "\n",
    "print(\"Input shape:\", inputs.numpy().shape)\n",
    "print(\"Target shape:\", targets.numpy().shape)"
   ]
  },
  {
   "cell_type": "code",
   "execution_count": 9,
   "id": "468f5e19-faa1-4bae-86ad-93f0dc9099da",
   "metadata": {},
   "outputs": [],
   "source": [
    "#train_ds.save(\"data/TSLA_ds/train\")\n",
    "#val_ds.save(\"data/TSLA_ds/val\")"
   ]
  },
  {
   "cell_type": "code",
   "execution_count": 10,
   "id": "20dd51d2-ea3f-4a37-8951-f05b44569a27",
   "metadata": {},
   "outputs": [],
   "source": [
    "#tuner = get_tuner()\n",
    "#tuner.search(train_ds, epochs=50, validation_data=val_ds)"
   ]
  },
  {
   "cell_type": "code",
   "execution_count": null,
   "id": "96331e36-34ef-463d-ac8a-59729ae11df2",
   "metadata": {},
   "outputs": [
    {
     "name": "stdout",
     "output_type": "stream",
     "text": [
      "Trial 2 Complete [00h 00m 36s]\n",
      "val_mse: 0.7032281160354614\n",
      "\n",
      "Best val_mse So Far: 0.7032281160354614\n",
      "Total elapsed time: 00h 01m 12s\n",
      "\n",
      "Search: Running Trial #3\n",
      "\n",
      "Value             |Best Value So Far |Hyperparameter\n",
      "True              |True              |selu\n",
      "leaky_relu        |silu              |activation\n",
      "0.51491           |0.4318            |dropout_0\n",
      "0.16561           |0.10404           |recurrent_dropout_0\n",
      "0.33568           |0.34169           |dropout_1\n",
      "0.21076           |0.059712          |recurrent_dropout_1\n",
      "glorot_normal     |orthogonal        |kernel_initializer_2\n",
      "0.003255          |0.0021476         |lr\n",
      "\n",
      "Epoch 1/60\n",
      "\u001b[1m38/38\u001b[0m \u001b[32m━━━━━━━━━━━━━━━━━━━━\u001b[0m\u001b[37m\u001b[0m \u001b[1m3s\u001b[0m 21ms/step - loss: 0.1080 - mse: 0.1080 - val_loss: 1.8186 - val_mse: 1.8186\n",
      "Epoch 2/60\n",
      "\u001b[1m38/38\u001b[0m \u001b[32m━━━━━━━━━━━━━━━━━━━━\u001b[0m\u001b[37m\u001b[0m \u001b[1m1s\u001b[0m 14ms/step - loss: 0.0089 - mse: 0.0089 - val_loss: 1.6532 - val_mse: 1.6532\n",
      "Epoch 3/60\n",
      "\u001b[1m38/38\u001b[0m \u001b[32m━━━━━━━━━━━━━━━━━━━━\u001b[0m\u001b[37m\u001b[0m \u001b[1m1s\u001b[0m 14ms/step - loss: 0.0076 - mse: 0.0076 - val_loss: 1.6690 - val_mse: 1.6690\n",
      "Epoch 4/60\n",
      "\u001b[1m38/38\u001b[0m \u001b[32m━━━━━━━━━━━━━━━━━━━━\u001b[0m\u001b[37m\u001b[0m \u001b[1m1s\u001b[0m 14ms/step - loss: 0.0075 - mse: 0.0075 - val_loss: 1.6004 - val_mse: 1.6004\n",
      "Epoch 5/60\n",
      "\u001b[1m38/38\u001b[0m \u001b[32m━━━━━━━━━━━━━━━━━━━━\u001b[0m\u001b[37m\u001b[0m \u001b[1m1s\u001b[0m 13ms/step - loss: 0.0074 - mse: 0.0074 - val_loss: 1.4196 - val_mse: 1.4196\n",
      "Epoch 6/60\n",
      "\u001b[1m38/38\u001b[0m \u001b[32m━━━━━━━━━━━━━━━━━━━━\u001b[0m\u001b[37m\u001b[0m \u001b[1m1s\u001b[0m 13ms/step - loss: 0.0073 - mse: 0.0073 - val_loss: 1.1125 - val_mse: 1.1125\n",
      "Epoch 7/60\n",
      "\u001b[1m38/38\u001b[0m \u001b[32m━━━━━━━━━━━━━━━━━━━━\u001b[0m\u001b[37m\u001b[0m \u001b[1m1s\u001b[0m 13ms/step - loss: 0.0067 - mse: 0.0067 - val_loss: 1.0278 - val_mse: 1.0278\n",
      "Epoch 8/60\n",
      "\u001b[1m38/38\u001b[0m \u001b[32m━━━━━━━━━━━━━━━━━━━━\u001b[0m\u001b[37m\u001b[0m \u001b[1m1s\u001b[0m 14ms/step - loss: 0.0062 - mse: 0.0062 - val_loss: 0.9485 - val_mse: 0.9485\n",
      "Epoch 9/60\n",
      "\u001b[1m38/38\u001b[0m \u001b[32m━━━━━━━━━━━━━━━━━━━━\u001b[0m\u001b[37m\u001b[0m \u001b[1m1s\u001b[0m 14ms/step - loss: 0.0052 - mse: 0.0052 - val_loss: 0.8853 - val_mse: 0.8853\n",
      "Epoch 10/60\n",
      "\u001b[1m38/38\u001b[0m \u001b[32m━━━━━━━━━━━━━━━━━━━━\u001b[0m\u001b[37m\u001b[0m \u001b[1m1s\u001b[0m 13ms/step - loss: 0.0046 - mse: 0.0046 - val_loss: 1.2192 - val_mse: 1.2192\n",
      "Epoch 11/60\n",
      "\u001b[1m38/38\u001b[0m \u001b[32m━━━━━━━━━━━━━━━━━━━━\u001b[0m\u001b[37m\u001b[0m \u001b[1m1s\u001b[0m 15ms/step - loss: 0.0041 - mse: 0.0041 - val_loss: 1.1741 - val_mse: 1.1741\n",
      "Epoch 12/60\n",
      "\u001b[1m38/38\u001b[0m \u001b[32m━━━━━━━━━━━━━━━━━━━━\u001b[0m\u001b[37m\u001b[0m \u001b[1m1s\u001b[0m 14ms/step - loss: 0.0034 - mse: 0.0034 - val_loss: 0.9695 - val_mse: 0.9695\n",
      "Epoch 13/60\n",
      "\u001b[1m38/38\u001b[0m \u001b[32m━━━━━━━━━━━━━━━━━━━━\u001b[0m\u001b[37m\u001b[0m \u001b[1m1s\u001b[0m 14ms/step - loss: 0.0025 - mse: 0.0025 - val_loss: 0.9020 - val_mse: 0.9020\n",
      "Epoch 14/60\n",
      "\u001b[1m38/38\u001b[0m \u001b[32m━━━━━━━━━━━━━━━━━━━━\u001b[0m\u001b[37m\u001b[0m \u001b[1m1s\u001b[0m 15ms/step - loss: 0.0019 - mse: 0.0019 - val_loss: 0.8776 - val_mse: 0.8776\n",
      "Epoch 15/60\n",
      "\u001b[1m38/38\u001b[0m \u001b[32m━━━━━━━━━━━━━━━━━━━━\u001b[0m\u001b[37m\u001b[0m \u001b[1m1s\u001b[0m 15ms/step - loss: 0.0017 - mse: 0.0017 - val_loss: 1.0627 - val_mse: 1.0627\n",
      "Epoch 16/60\n",
      "\u001b[1m38/38\u001b[0m \u001b[32m━━━━━━━━━━━━━━━━━━━━\u001b[0m\u001b[37m\u001b[0m \u001b[1m1s\u001b[0m 14ms/step - loss: 0.0016 - mse: 0.0016 - val_loss: 1.0473 - val_mse: 1.0473\n",
      "Epoch 17/60\n",
      "\u001b[1m38/38\u001b[0m \u001b[32m━━━━━━━━━━━━━━━━━━━━\u001b[0m\u001b[37m\u001b[0m \u001b[1m1s\u001b[0m 14ms/step - loss: 0.0013 - mse: 0.0013 - val_loss: 0.9487 - val_mse: 0.9487\n",
      "Epoch 18/60\n",
      "\u001b[1m10/38\u001b[0m \u001b[32m━━━━━\u001b[0m\u001b[37m━━━━━━━━━━━━━━━\u001b[0m \u001b[1m0s\u001b[0m 12ms/step - loss: 0.0012 - mse: 0.0012"
     ]
    }
   ],
   "source": [
    "tuner = get_tuner(500, 1)\n",
    "tuner.search(train_ds, epochs=60, validation_data=val_ds)"
   ]
  },
  {
   "cell_type": "code",
   "execution_count": null,
   "id": "40eee7e3-f3af-4ece-a531-8a26750cf647",
   "metadata": {
    "jupyter": {
     "source_hidden": true
    }
   },
   "outputs": [],
   "source": [
    "model = build_spec_model(\n",
    "    2, \n",
    "    [32, 32], \n",
    "    [\"tanh\", \"tanh\"], \n",
    "    [\"sigmoid\", \"sigmoid\"], \n",
    "    [0.2, 0.2], \n",
    "    [0.0, 0.0],\n",
    "    0.001\n",
    ")\n",
    "history = model.fit(\n",
    "    train_ds,\n",
    "    batch_size=64,\n",
    "    epochs=100,\n",
    "    validation_data=val_ds\n",
    ")"
   ]
  },
  {
   "cell_type": "code",
   "execution_count": 10,
   "id": "c6aeaff2-7526-452e-89cb-0581b0525679",
   "metadata": {
    "scrolled": true
   },
   "outputs": [],
   "source": [
    "trials = list()\n",
    "for n in range(100):\n",
    "    path = f\"tuning/stock_predictor_2024-08-04 08:10:52.540990/trial_{n:03d}/trial.json\"\n",
    "    with open(path, mode=\"r\") as f:\n",
    "        trial = json.load(f)\n",
    "        trials.append(trial)\n",
    "\n",
    "#trials[0]"
   ]
  },
  {
   "cell_type": "code",
   "execution_count": 11,
   "id": "0a529a16-bb6c-475f-b72f-4ee000544769",
   "metadata": {},
   "outputs": [],
   "source": [
    "def sort(array):\n",
    "    \"\"\"Sort the array by using quicksort.\"\"\"\n",
    "\n",
    "    less = []\n",
    "    equal = []\n",
    "    greater = []\n",
    "\n",
    "    if len(array) > 1:\n",
    "        pivot = array[0][\"score\"]\n",
    "        for x in array:\n",
    "            if x[\"score\"] < pivot:\n",
    "                less.append(x)\n",
    "            elif x[\"score\"] == pivot:\n",
    "                equal.append(x)\n",
    "            elif x[\"score\"] > pivot:\n",
    "                greater.append(x)\n",
    "        return sort(less)+equal+sort(greater)\n",
    "    else:\n",
    "        return array"
   ]
  },
  {
   "cell_type": "code",
   "execution_count": 12,
   "id": "e274e964-dae9-43a8-8c8e-38ea679b3383",
   "metadata": {},
   "outputs": [],
   "source": [
    "sorted_trials = sort(trials)\n",
    "tmp = copy.deepcopy(sorted_trials)\n",
    "rmse_trials = list()\n",
    "for trial in tmp:\n",
    "    trial.update({\"score\" : np.sqrt(trial[\"score\"])})\n",
    "    rmse_trials.append(trial)\n"
   ]
  },
  {
   "cell_type": "code",
   "execution_count": 13,
   "id": "8db32b24-f952-4050-b63b-274231bf2623",
   "metadata": {},
   "outputs": [],
   "source": [
    "bins = np.linspace(min([x[\"score\"] for x in rmse_trials]), max([x[\"score\"] for x in rmse_trials]), 25)"
   ]
  },
  {
   "cell_type": "code",
   "execution_count": 14,
   "id": "fbed6acb-3309-4682-98f8-292834c0b6c7",
   "metadata": {},
   "outputs": [
    {
     "data": {
      "text/plain": [
       "100"
      ]
     },
     "execution_count": 14,
     "metadata": {},
     "output_type": "execute_result"
    }
   ],
   "source": [
    "counts = [[cutoff, 0] for cutoff in bins]\n",
    "t = 0\n",
    "c = 0\n",
    "while t < len(rmse_trials) and c < len(counts):\n",
    "    if rmse_trials[t][\"score\"] <= counts[c][0]:\n",
    "        counts[c][1] += 1\n",
    "        t += 1\n",
    "    else:\n",
    "        c += 1\n",
    "\n",
    "np.sum([el[1] for el in counts])"
   ]
  },
  {
   "cell_type": "code",
   "execution_count": 16,
   "id": "1ed4471b-6f57-4086-bf00-d279115d9b34",
   "metadata": {},
   "outputs": [
    {
     "data": {
      "text/plain": [
       "Text(0.5, 1.0, 'Score distribution')"
      ]
     },
     "execution_count": 16,
     "metadata": {},
     "output_type": "execute_result"
    },
    {
     "data": {
      "image/png": "[encoded data removed]",
      "text/plain": [
       "<Figure size 640x480 with 1 Axes>"
      ]
     },
     "metadata": {},
     "output_type": "display_data"
    }
   ],
   "source": [
    "scx = list()\n",
    "heights = list()\n",
    "for el in counts:\n",
    "    scx.append(el[0])\n",
    "    heights.append(el[1])\n",
    "\n",
    "plt.bar(scx, heights, edgecolor=\"black\", width=0.05)\n",
    "plt.xlabel(\"RMSE\")\n",
    "plt.ylabel(\"number of occurrences\")\n",
    "plt.title(\"Score distribution\")"
   ]
  },
  {
   "cell_type": "code",
   "execution_count": 21,
   "id": "27dea81a-b7f9-46af-946c-67b6da9af08d",
   "metadata": {},
   "outputs": [],
   "source": [
    "reg = LinearRegression()\n",
    "rmse_scores = np.array([trial[\"score\"] for trial in rmse_trials])"
   ]
  },
  {
   "cell_type": "code",
   "execution_count": 17,
   "id": "3b608da3-c5b5-4771-95f0-a430e67f0e6d",
   "metadata": {},
   "outputs": [
    {
     "ename": "KeyError",
     "evalue": "'num_layers'",
     "output_type": "error",
     "traceback": [
      "\u001b[0;31m---------------------------------------------------------------------------\u001b[0m",
      "\u001b[0;31mKeyError\u001b[0m                                  Traceback (most recent call last)",
      "Cell \u001b[0;32mIn[17], line 1\u001b[0m\n\u001b[0;32m----> 1\u001b[0m num_layers \u001b[38;5;241m=\u001b[39m \u001b[43m[\u001b[49m\u001b[43mtrial\u001b[49m\u001b[43m[\u001b[49m\u001b[38;5;124;43m\"\u001b[39;49m\u001b[38;5;124;43mhyperparameters\u001b[39;49m\u001b[38;5;124;43m\"\u001b[39;49m\u001b[43m]\u001b[49m\u001b[43m[\u001b[49m\u001b[38;5;124;43m\"\u001b[39;49m\u001b[38;5;124;43mvalues\u001b[39;49m\u001b[38;5;124;43m\"\u001b[39;49m\u001b[43m]\u001b[49m\u001b[43m[\u001b[49m\u001b[38;5;124;43m\"\u001b[39;49m\u001b[38;5;124;43mnum_layers\u001b[39;49m\u001b[38;5;124;43m\"\u001b[39;49m\u001b[43m]\u001b[49m\u001b[43m \u001b[49m\u001b[38;5;28;43;01mfor\u001b[39;49;00m\u001b[43m \u001b[49m\u001b[43mtrial\u001b[49m\u001b[43m \u001b[49m\u001b[38;5;129;43;01min\u001b[39;49;00m\u001b[43m \u001b[49m\u001b[43mrmse_trials\u001b[49m\u001b[43m]\u001b[49m\n\u001b[1;32m      2\u001b[0m rmse_scores \u001b[38;5;241m=\u001b[39m np\u001b[38;5;241m.\u001b[39marray([trial[\u001b[38;5;124m\"\u001b[39m\u001b[38;5;124mscore\u001b[39m\u001b[38;5;124m\"\u001b[39m] \u001b[38;5;28;01mfor\u001b[39;00m trial \u001b[38;5;129;01min\u001b[39;00m rmse_trials])\n\u001b[1;32m      3\u001b[0m plt\u001b[38;5;241m.\u001b[39mscatter(num_layers, rmse_scores)\n",
      "Cell \u001b[0;32mIn[17], line 1\u001b[0m, in \u001b[0;36m<listcomp>\u001b[0;34m(.0)\u001b[0m\n\u001b[0;32m----> 1\u001b[0m num_layers \u001b[38;5;241m=\u001b[39m [\u001b[43mtrial\u001b[49m\u001b[43m[\u001b[49m\u001b[38;5;124;43m\"\u001b[39;49m\u001b[38;5;124;43mhyperparameters\u001b[39;49m\u001b[38;5;124;43m\"\u001b[39;49m\u001b[43m]\u001b[49m\u001b[43m[\u001b[49m\u001b[38;5;124;43m\"\u001b[39;49m\u001b[38;5;124;43mvalues\u001b[39;49m\u001b[38;5;124;43m\"\u001b[39;49m\u001b[43m]\u001b[49m\u001b[43m[\u001b[49m\u001b[38;5;124;43m\"\u001b[39;49m\u001b[38;5;124;43mnum_layers\u001b[39;49m\u001b[38;5;124;43m\"\u001b[39;49m\u001b[43m]\u001b[49m \u001b[38;5;28;01mfor\u001b[39;00m trial \u001b[38;5;129;01min\u001b[39;00m rmse_trials]\n\u001b[1;32m      2\u001b[0m rmse_scores \u001b[38;5;241m=\u001b[39m np\u001b[38;5;241m.\u001b[39marray([trial[\u001b[38;5;124m\"\u001b[39m\u001b[38;5;124mscore\u001b[39m\u001b[38;5;124m\"\u001b[39m] \u001b[38;5;28;01mfor\u001b[39;00m trial \u001b[38;5;129;01min\u001b[39;00m rmse_trials])\n\u001b[1;32m      3\u001b[0m plt\u001b[38;5;241m.\u001b[39mscatter(num_layers, rmse_scores)\n",
      "\u001b[0;31mKeyError\u001b[0m: 'num_layers'"
     ]
    }
   ],
   "source": [
    "num_layers = [trial[\"hyperparameters\"][\"values\"][\"num_layers\"] for trial in rmse_trials]\n",
    "rmse_scores = np.array([trial[\"score\"] for trial in rmse_trials])\n",
    "plt.scatter(num_layers, rmse_scores)\n",
    "plt.xlabel(\"number of LSTM layers\")\n",
    "plt.ylabel(\"RMSE\")\n",
    "\n",
    "\n",
    "reg.fit(np.array(num_layers).reshape((-1, 1)), np.array(rmse_scores).reshape((-1, 1)))\n",
    "x = np.linspace(min(num_layers), max(num_layers), 100)\n",
    "plt.plot(x, np.array(reg.coef_ * x + reg.intercept_).reshape((-1, 1)))"
   ]
  },
  {
   "cell_type": "code",
   "execution_count": 22,
   "id": "ecfe5ba9-3056-4911-bf70-9eb8ffe8d9e9",
   "metadata": {},
   "outputs": [
    {
     "data": {
      "text/plain": [
       "Text(0, 0.5, 'RMSE')"
      ]
     },
     "execution_count": 22,
     "metadata": {},
     "output_type": "execute_result"
    },
    {
     "data": {
      "image/png": "[encoded data removed]",
      "text/plain": [
       "<Figure size 640x480 with 1 Axes>"
      ]
     },
     "metadata": {},
     "output_type": "display_data"
    }
   ],
   "source": [
    "log_lrs = np.array([np.log10(trial[\"hyperparameters\"][\"values\"][\"lr\"]) for trial in rmse_trials])\n",
    "reg.fit(log_lrs.reshape((-1, 1)), rmse_scores.reshape((-1, 1)))\n",
    "x = np.linspace(min(log_lrs), max(log_lrs), 100)\n",
    "y = reg.coef_ * x + reg.intercept_\n",
    "plt.scatter(log_lrs, rmse_scores.reshape((-1, 1)))\n",
    "plt.plot(x, y.reshape((-1, 1)))\n",
    "plt.xlabel(\"log(learning rate)\")\n",
    "plt.ylabel(\"RMSE\")"
   ]
  },
  {
   "cell_type": "code",
   "execution_count": 24,
   "id": "18f464dc-717d-4e18-b58d-45ef3e9ed334",
   "metadata": {},
   "outputs": [
    {
     "data": {
      "text/html": [
       "<div>\n",
       "<style scoped>\n",
       "    .dataframe tbody tr th:only-of-type {\n",
       "        vertical-align: middle;\n",
       "    }\n",
       "\n",
       "    .dataframe tbody tr th {\n",
       "        vertical-align: top;\n",
       "    }\n",
       "\n",
       "    .dataframe thead th {\n",
       "        text-align: right;\n",
       "    }\n",
       "</style>\n",
       "<table border=\"1\" class=\"dataframe\">\n",
       "  <thead>\n",
       "    <tr style=\"text-align: right;\">\n",
       "      <th></th>\n",
       "      <th>activation</th>\n",
       "      <th>dropout_0</th>\n",
       "      <th>recurrent_dropout_0</th>\n",
       "      <th>dropout_1</th>\n",
       "      <th>recurrent_dropout_1</th>\n",
       "      <th>kernel_initializer_2</th>\n",
       "      <th>lr</th>\n",
       "      <th>trial id</th>\n",
       "      <th>rmse</th>\n",
       "    </tr>\n",
       "  </thead>\n",
       "  <tbody>\n",
       "    <tr>\n",
       "      <th>0</th>\n",
       "      <td>selu</td>\n",
       "      <td>0.45</td>\n",
       "      <td>0.05</td>\n",
       "      <td>0.20</td>\n",
       "      <td>0.10</td>\n",
       "      <td>glorot_normal</td>\n",
       "      <td>0.003781</td>\n",
       "      <td>042</td>\n",
       "      <td>0.388760</td>\n",
       "    </tr>\n",
       "    <tr>\n",
       "      <th>1</th>\n",
       "      <td>selu</td>\n",
       "      <td>0.25</td>\n",
       "      <td>0.05</td>\n",
       "      <td>0.30</td>\n",
       "      <td>0.20</td>\n",
       "      <td>he_uniform</td>\n",
       "      <td>0.003890</td>\n",
       "      <td>095</td>\n",
       "      <td>0.418419</td>\n",
       "    </tr>\n",
       "    <tr>\n",
       "      <th>2</th>\n",
       "      <td>relu</td>\n",
       "      <td>0.25</td>\n",
       "      <td>0.10</td>\n",
       "      <td>0.25</td>\n",
       "      <td>0.20</td>\n",
       "      <td>he_uniform</td>\n",
       "      <td>0.002208</td>\n",
       "      <td>068</td>\n",
       "      <td>0.421811</td>\n",
       "    </tr>\n",
       "    <tr>\n",
       "      <th>3</th>\n",
       "      <td>relu</td>\n",
       "      <td>0.25</td>\n",
       "      <td>0.25</td>\n",
       "      <td>0.35</td>\n",
       "      <td>0.20</td>\n",
       "      <td>he_uniform</td>\n",
       "      <td>0.001143</td>\n",
       "      <td>014</td>\n",
       "      <td>0.441298</td>\n",
       "    </tr>\n",
       "    <tr>\n",
       "      <th>4</th>\n",
       "      <td>leaky_relu</td>\n",
       "      <td>0.45</td>\n",
       "      <td>0.15</td>\n",
       "      <td>0.45</td>\n",
       "      <td>0.00</td>\n",
       "      <td>he_uniform</td>\n",
       "      <td>0.002305</td>\n",
       "      <td>006</td>\n",
       "      <td>0.462220</td>\n",
       "    </tr>\n",
       "    <tr>\n",
       "      <th>5</th>\n",
       "      <td>selu</td>\n",
       "      <td>0.45</td>\n",
       "      <td>0.20</td>\n",
       "      <td>0.35</td>\n",
       "      <td>0.15</td>\n",
       "      <td>he_uniform</td>\n",
       "      <td>0.002657</td>\n",
       "      <td>044</td>\n",
       "      <td>0.477958</td>\n",
       "    </tr>\n",
       "    <tr>\n",
       "      <th>6</th>\n",
       "      <td>selu</td>\n",
       "      <td>0.25</td>\n",
       "      <td>0.05</td>\n",
       "      <td>0.20</td>\n",
       "      <td>0.20</td>\n",
       "      <td>he_normal</td>\n",
       "      <td>0.003983</td>\n",
       "      <td>031</td>\n",
       "      <td>0.479455</td>\n",
       "    </tr>\n",
       "    <tr>\n",
       "      <th>7</th>\n",
       "      <td>relu</td>\n",
       "      <td>0.40</td>\n",
       "      <td>0.10</td>\n",
       "      <td>0.35</td>\n",
       "      <td>0.15</td>\n",
       "      <td>glorot_normal</td>\n",
       "      <td>0.001474</td>\n",
       "      <td>025</td>\n",
       "      <td>0.492567</td>\n",
       "    </tr>\n",
       "    <tr>\n",
       "      <th>8</th>\n",
       "      <td>selu</td>\n",
       "      <td>0.20</td>\n",
       "      <td>0.05</td>\n",
       "      <td>0.25</td>\n",
       "      <td>0.05</td>\n",
       "      <td>glorot_uniform</td>\n",
       "      <td>0.000839</td>\n",
       "      <td>087</td>\n",
       "      <td>0.494173</td>\n",
       "    </tr>\n",
       "    <tr>\n",
       "      <th>9</th>\n",
       "      <td>selu</td>\n",
       "      <td>0.45</td>\n",
       "      <td>0.20</td>\n",
       "      <td>0.45</td>\n",
       "      <td>0.05</td>\n",
       "      <td>he_uniform</td>\n",
       "      <td>0.000939</td>\n",
       "      <td>059</td>\n",
       "      <td>0.509677</td>\n",
       "    </tr>\n",
       "    <tr>\n",
       "      <th>10</th>\n",
       "      <td>selu</td>\n",
       "      <td>0.30</td>\n",
       "      <td>0.15</td>\n",
       "      <td>0.25</td>\n",
       "      <td>0.00</td>\n",
       "      <td>glorot_uniform</td>\n",
       "      <td>0.002841</td>\n",
       "      <td>049</td>\n",
       "      <td>0.521527</td>\n",
       "    </tr>\n",
       "    <tr>\n",
       "      <th>11</th>\n",
       "      <td>selu</td>\n",
       "      <td>0.35</td>\n",
       "      <td>0.25</td>\n",
       "      <td>0.40</td>\n",
       "      <td>0.00</td>\n",
       "      <td>glorot_normal</td>\n",
       "      <td>0.003213</td>\n",
       "      <td>065</td>\n",
       "      <td>0.522350</td>\n",
       "    </tr>\n",
       "    <tr>\n",
       "      <th>12</th>\n",
       "      <td>selu</td>\n",
       "      <td>0.20</td>\n",
       "      <td>0.00</td>\n",
       "      <td>0.35</td>\n",
       "      <td>0.25</td>\n",
       "      <td>he_normal</td>\n",
       "      <td>0.003895</td>\n",
       "      <td>009</td>\n",
       "      <td>0.523121</td>\n",
       "    </tr>\n",
       "    <tr>\n",
       "      <th>13</th>\n",
       "      <td>selu</td>\n",
       "      <td>0.30</td>\n",
       "      <td>0.10</td>\n",
       "      <td>0.25</td>\n",
       "      <td>0.10</td>\n",
       "      <td>glorot_uniform</td>\n",
       "      <td>0.001764</td>\n",
       "      <td>077</td>\n",
       "      <td>0.547299</td>\n",
       "    </tr>\n",
       "    <tr>\n",
       "      <th>14</th>\n",
       "      <td>leaky_relu</td>\n",
       "      <td>0.45</td>\n",
       "      <td>0.25</td>\n",
       "      <td>0.35</td>\n",
       "      <td>0.05</td>\n",
       "      <td>he_normal</td>\n",
       "      <td>0.001630</td>\n",
       "      <td>038</td>\n",
       "      <td>0.555445</td>\n",
       "    </tr>\n",
       "  </tbody>\n",
       "</table>\n",
       "</div>"
      ],
      "text/plain": [
       "    activation  dropout_0  recurrent_dropout_0  dropout_1  \\\n",
       "0         selu       0.45                 0.05       0.20   \n",
       "1         selu       0.25                 0.05       0.30   \n",
       "2         relu       0.25                 0.10       0.25   \n",
       "3         relu       0.25                 0.25       0.35   \n",
       "4   leaky_relu       0.45                 0.15       0.45   \n",
       "5         selu       0.45                 0.20       0.35   \n",
       "6         selu       0.25                 0.05       0.20   \n",
       "7         relu       0.40                 0.10       0.35   \n",
       "8         selu       0.20                 0.05       0.25   \n",
       "9         selu       0.45                 0.20       0.45   \n",
       "10        selu       0.30                 0.15       0.25   \n",
       "11        selu       0.35                 0.25       0.40   \n",
       "12        selu       0.20                 0.00       0.35   \n",
       "13        selu       0.30                 0.10       0.25   \n",
       "14  leaky_relu       0.45                 0.25       0.35   \n",
       "\n",
       "    recurrent_dropout_1 kernel_initializer_2        lr trial id      rmse  \n",
       "0                  0.10        glorot_normal  0.003781      042  0.388760  \n",
       "1                  0.20           he_uniform  0.003890      095  0.418419  \n",
       "2                  0.20           he_uniform  0.002208      068  0.421811  \n",
       "3                  0.20           he_uniform  0.001143      014  0.441298  \n",
       "4                  0.00           he_uniform  0.002305      006  0.462220  \n",
       "5                  0.15           he_uniform  0.002657      044  0.477958  \n",
       "6                  0.20            he_normal  0.003983      031  0.479455  \n",
       "7                  0.15        glorot_normal  0.001474      025  0.492567  \n",
       "8                  0.05       glorot_uniform  0.000839      087  0.494173  \n",
       "9                  0.05           he_uniform  0.000939      059  0.509677  \n",
       "10                 0.00       glorot_uniform  0.002841      049  0.521527  \n",
       "11                 0.00        glorot_normal  0.003213      065  0.522350  \n",
       "12                 0.25            he_normal  0.003895      009  0.523121  \n",
       "13                 0.10       glorot_uniform  0.001764      077  0.547299  \n",
       "14                 0.05            he_normal  0.001630      038  0.555445  "
      ]
     },
     "execution_count": 24,
     "metadata": {},
     "output_type": "execute_result"
    }
   ],
   "source": [
    "df = pd.DataFrame([trial[\"hyperparameters\"][\"values\"] for trial in rmse_trials])\n",
    "df[\"trial id\"] = [trial[\"trial_id\"] for trial in rmse_trials]\n",
    "df[\"rmse\"] = [trial[\"score\"] for trial in rmse_trials]\n",
    "df[:15]"
   ]
  },
  {
   "cell_type": "code",
   "execution_count": null,
   "id": "28206636-8dcd-44de-a6e5-14c4cae03c7f",
   "metadata": {},
   "outputs": [],
   "source": [
    "df.to_pickle(\"tuning/dataframe.pkl\")"
   ]
  }
 ],
 "metadata": {
  "kernelspec": {
   "display_name": "Python 3 (ipykernel)",
   "language": "python",
   "name": "python3"
  },
  "language_info": {
   "codemirror_mode": {
    "name": "ipython",
    "version": 3
   },
   "file_extension": ".py",
   "mimetype": "text/x-python",
   "name": "python",
   "nbconvert_exporter": "python",
   "pygments_lexer": "ipython3",
   "version": "3.11.9"
  }
 },
 "nbformat": 4,
 "nbformat_minor": 5
}
