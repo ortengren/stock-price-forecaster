{
 "cells": [
  {
   "cell_type": "code",
   "execution_count": 1,
   "id": "0617e923-5bed-41b5-bd6c-4bb3262edeb7",
   "metadata": {},
   "outputs": [
    {
     "name": "stderr",
     "output_type": "stream",
     "text": [
      "2024-08-03 21:19:38.920919: I tensorflow/core/platform/cpu_feature_guard.cc:210] This TensorFlow binary is optimized to use available CPU instructions in performance-critical operations.\n",
      "To enable the following instructions: SSE4.1 SSE4.2 AVX AVX2 FMA, in other operations, rebuild TensorFlow with the appropriate compiler flags.\n"
     ]
    }
   ],
   "source": [
    "import json\n",
    "import copy\n",
    "import joblib\n",
    "import numpy as np\n",
    "import pandas as pd\n",
    "import matplotlib.pyplot as plt\n",
    "import tensorflow as tf\n",
    "import keras\n",
    "import keras_tuner\n",
    "from dataclasses import dataclass\n",
    "from typing import List\n",
    "from keras import layers, ops\n",
    "from keras.utils import timeseries_dataset_from_array\n",
    "from sklearn.metrics import mean_squared_error\n",
    "from sklearn.preprocessing import MinMaxScaler, StandardScaler, PowerTransformer\n",
    "from sklearn.linear_model import LinearRegression\n",
    "%matplotlib inline\n",
    "\n",
    "from processing import Stationarizer, Normalizer\n",
    "#from tuner import LSTMLayerHyperparams, ModelHyperparams\n",
    "from plotting import visualize_loss, show_plot\n",
    "from model_builder import build_model, build_spec_model, get_tuner"
   ]
  },
  {
   "cell_type": "code",
   "execution_count": 2,
   "id": "b861f11e-bbd7-435e-a2df-b233af6e991c",
   "metadata": {},
   "outputs": [],
   "source": [
    "data = pd.read_csv(\"data/YF_TSLA.csv\")[\"Adj Close\"].to_numpy().reshape(-1, 1)"
   ]
  },
  {
   "cell_type": "code",
   "execution_count": 3,
   "id": "bacd25fc-707d-49e7-824d-47921a468fef",
   "metadata": {},
   "outputs": [],
   "source": [
    "normer = Normalizer()\n",
    "normer.fit(data)"
   ]
  },
  {
   "cell_type": "code",
   "execution_count": 4,
   "id": "e6a6e81c-960c-4519-947f-81142a70526b",
   "metadata": {},
   "outputs": [],
   "source": [
    "train_idx = int(0.7 * np.shape(data)[0])\n",
    "val_idx = int(0.85 * np.shape(data)[0])\n",
    "\n",
    "train_data = data[:train_idx]\n",
    "val_data = data[train_idx:val_idx]\n",
    "non_test_data = data[:val_idx]\n",
    "test_data = data[val_idx:]"
   ]
  },
  {
   "cell_type": "code",
   "execution_count": 5,
   "id": "ea1a32e3-f04f-4177-bebd-de0c19056d8b",
   "metadata": {},
   "outputs": [],
   "source": [
    "train_data = normer.transform(train_data)\n",
    "val_data = normer.transform(val_data)"
   ]
  },
  {
   "cell_type": "code",
   "execution_count": 6,
   "id": "e41fe917-dfe6-4e4d-bb58-0a7945487e02",
   "metadata": {},
   "outputs": [
    {
     "data": {
      "text/plain": [
       "array([[-0.71611151],\n",
       "       [-0.71615073],\n",
       "       [-0.71737301],\n",
       "       ...,\n",
       "       [-0.25468943],\n",
       "       [-0.24463663],\n",
       "       [-0.23896314]])"
      ]
     },
     "execution_count": 6,
     "metadata": {},
     "output_type": "execute_result"
    }
   ],
   "source": [
    "train_data"
   ]
  },
  {
   "cell_type": "code",
   "execution_count": 7,
   "id": "f3164a0a-344a-45c3-8313-d17ff2b02e4c",
   "metadata": {},
   "outputs": [
    {
     "data": {
      "text/plain": [
       "['TSLA_normer.gz']"
      ]
     },
     "execution_count": 7,
     "metadata": {},
     "output_type": "execute_result"
    }
   ],
   "source": [
    "joblib.dump(normer, \"TSLA_normer.gz\")"
   ]
  },
  {
   "cell_type": "code",
   "execution_count": 8,
   "id": "429e28e9-f577-4bf1-ad11-e82578865590",
   "metadata": {},
   "outputs": [
    {
     "name": "stdout",
     "output_type": "stream",
     "text": [
      "tf.Tensor(\n",
      "[[-0.70981054]\n",
      " [-0.71021579]\n",
      " [-0.70998702]\n",
      " [-0.7095687 ]\n",
      " [-0.70943797]\n",
      " [-0.70925496]\n",
      " [-0.70916345]\n",
      " [-0.70872552]\n",
      " [-0.70819608]\n",
      " [-0.70754899]\n",
      " [-0.70755553]\n",
      " [-0.70686922]\n",
      " [-0.7069215 ]\n",
      " [-0.70720257]\n",
      " [-0.7072091 ]\n",
      " [-0.70669274]\n",
      " [-0.70705877]\n",
      " [-0.70680385]\n",
      " [-0.70612408]\n",
      " [-0.70592145]], shape=(20, 1), dtype=float64)\n",
      "tf.Tensor([-0.70607832], shape=(1,), dtype=float64)\n",
      "Input shape: (64, 20, 1)\n",
      "Target shape: (64, 1)\n"
     ]
    },
    {
     "name": "stderr",
     "output_type": "stream",
     "text": [
      "2024-08-03 21:19:40.536909: W tensorflow/core/framework/local_rendezvous.cc:404] Local rendezvous is aborting with status: OUT_OF_RANGE: End of sequence\n"
     ]
    }
   ],
   "source": [
    "train_ds = timeseries_dataset_from_array(\n",
    "    train_data[:-20],\n",
    "    train_data[20:],\n",
    "    sequence_length=20,\n",
    "    batch_size=64,\n",
    "    shuffle=True\n",
    ")\n",
    "val_ds = timeseries_dataset_from_array(\n",
    "    val_data[:-20],\n",
    "    val_data[20:],\n",
    "    sequence_length=20,\n",
    "    batch_size=64,\n",
    "    shuffle=True\n",
    ")\n",
    "\n",
    "for batch in train_ds.take(1):\n",
    "    inputs, targets = batch\n",
    "    print(inputs[0])\n",
    "    print(targets[0])\n",
    "\n",
    "print(\"Input shape:\", inputs.numpy().shape)\n",
    "print(\"Target shape:\", targets.numpy().shape)"
   ]
  },
  {
   "cell_type": "code",
   "execution_count": 9,
   "id": "468f5e19-faa1-4bae-86ad-93f0dc9099da",
   "metadata": {},
   "outputs": [],
   "source": [
    "train_ds.save(\"data/TSLA_ds/train\")\n",
    "val_ds.save(\"data/TSLA_ds/val\")"
   ]
  },
  {
   "cell_type": "code",
   "execution_count": 10,
   "id": "20dd51d2-ea3f-4a37-8951-f05b44569a27",
   "metadata": {},
   "outputs": [
    {
     "name": "stdout",
     "output_type": "stream",
     "text": [
      "Trial 100 Complete [00h 00m 40s]\n",
      "val_mse: 1.9687508344650269\n",
      "\n",
      "Best val_mse So Far: 0.1469946950674057\n",
      "Total elapsed time: 01h 14m 56s\n"
     ]
    }
   ],
   "source": [
    "tuner = get_tuner()\n",
    "tuner.search(train_ds, epochs=50, validation_data=val_ds)"
   ]
  },
  {
   "cell_type": "code",
   "execution_count": null,
   "id": "40eee7e3-f3af-4ece-a531-8a26750cf647",
   "metadata": {},
   "outputs": [],
   "source": [
    "model = build_spec_model(\n",
    "    2, \n",
    "    [32, 32], \n",
    "    [\"tanh\", \"tanh\"], \n",
    "    [\"sigmoid\", \"sigmoid\"], \n",
    "    [0.2, 0.2], \n",
    "    [0.0, 0.0],\n",
    "    0.001\n",
    ")\n",
    "history = model.fit(\n",
    "    train_ds,\n",
    "    batch_size=64,\n",
    "    epochs=100,\n",
    "    validation_data=val_ds\n",
    ")"
   ]
  },
  {
   "cell_type": "code",
   "execution_count": null,
   "id": "c6aeaff2-7526-452e-89cb-0581b0525679",
   "metadata": {
    "scrolled": true
   },
   "outputs": [],
   "source": [
    "trials = list()\n",
    "for n in range(100):\n",
    "    path = f\"tuning/stock_predictor/trial_{n:03d}/trial.json\"\n",
    "    with open(path, mode=\"r\") as f:\n",
    "        trial = json.load(f)\n",
    "        trials.append(trial)\n",
    "\n",
    "#trials[0]"
   ]
  },
  {
   "cell_type": "code",
   "execution_count": null,
   "id": "0a529a16-bb6c-475f-b72f-4ee000544769",
   "metadata": {},
   "outputs": [],
   "source": [
    "def sort(array):\n",
    "    \"\"\"Sort the array by using quicksort.\"\"\"\n",
    "\n",
    "    less = []\n",
    "    equal = []\n",
    "    greater = []\n",
    "\n",
    "    if len(array) > 1:\n",
    "        pivot = array[0][\"score\"]\n",
    "        for x in array:\n",
    "            if x[\"score\"] < pivot:\n",
    "                less.append(x)\n",
    "            elif x[\"score\"] == pivot:\n",
    "                equal.append(x)\n",
    "            elif x[\"score\"] > pivot:\n",
    "                greater.append(x)\n",
    "        return sort(less)+equal+sort(greater)\n",
    "    else:\n",
    "        return array"
   ]
  },
  {
   "cell_type": "code",
   "execution_count": null,
   "id": "e274e964-dae9-43a8-8c8e-38ea679b3383",
   "metadata": {},
   "outputs": [],
   "source": [
    "sorted_trials = sort(trials)\n",
    "tmp = copy.deepcopy(sorted_trials)\n",
    "rmse_trials = list()\n",
    "for trial in tmp:\n",
    "    trial.update({\"score\" : np.sqrt(trial[\"score\"])})\n",
    "    rmse_trials.append(trial)\n"
   ]
  },
  {
   "cell_type": "code",
   "execution_count": null,
   "id": "8db32b24-f952-4050-b63b-274231bf2623",
   "metadata": {},
   "outputs": [],
   "source": [
    "bins = np.linspace(min([x[\"score\"] for x in rmse_trials]), max([x[\"score\"] for x in rmse_trials]), 25)"
   ]
  },
  {
   "cell_type": "code",
   "execution_count": null,
   "id": "fbed6acb-3309-4682-98f8-292834c0b6c7",
   "metadata": {},
   "outputs": [],
   "source": [
    "counts = [[cutoff, 0] for cutoff in bins]\n",
    "t = 0\n",
    "c = 0\n",
    "while t < len(rmse_trials) and c < len(counts):\n",
    "    if rmse_trials[t][\"score\"] <= counts[c][0]:\n",
    "        counts[c][1] += 1\n",
    "        t += 1\n",
    "    else:\n",
    "        c += 1\n",
    "\n",
    "np.sum([el[1] for el in counts])"
   ]
  },
  {
   "cell_type": "code",
   "execution_count": null,
   "id": "1ed4471b-6f57-4086-bf00-d279115d9b34",
   "metadata": {},
   "outputs": [],
   "source": [
    "scx = list()\n",
    "heights = list()\n",
    "for el in counts:\n",
    "    scx.append(el[0])\n",
    "    heights.append(el[1])\n",
    "\n",
    "plt.bar(scx, heights, edgecolor=\"black\", width=0.016)\n",
    "plt.xlabel(\"RMSE\")\n",
    "plt.ylabel(\"number of occurrences\")\n",
    "plt.title(\"Score distribution\")"
   ]
  },
  {
   "cell_type": "code",
   "execution_count": null,
   "id": "3b608da3-c5b5-4771-95f0-a430e67f0e6d",
   "metadata": {},
   "outputs": [],
   "source": [
    "num_layers = [trial[\"hyperparameters\"][\"values\"][\"num_layers\"] for trial in rmse_trials]\n",
    "rmse_scores = np.array([trial[\"score\"] for trial in rmse_trials])\n",
    "plt.scatter(num_layers, rmse_scores)\n",
    "plt.xlabel(\"number of LSTM layers\")\n",
    "plt.ylabel(\"RMSE\")\n",
    "\n",
    "reg = LinearRegression()\n",
    "reg.fit(np.array(num_layers).reshape((-1, 1)), np.array(rmse_scores).reshape((-1, 1)))\n",
    "x = np.linspace(min(num_layers), max(num_layers), 100)\n",
    "plt.plot(x, np.array(reg.coef_ * x + reg.intercept_).reshape((-1, 1)))"
   ]
  },
  {
   "cell_type": "code",
   "execution_count": null,
   "id": "ecfe5ba9-3056-4911-bf70-9eb8ffe8d9e9",
   "metadata": {},
   "outputs": [],
   "source": [
    "log_lrs = np.array([np.log10(trial[\"hyperparameters\"][\"values\"][\"lr\"]) for trial in rmse_trials])\n",
    "reg.fit(log_lrs.reshape((-1, 1)), rmse_scores.reshape((-1, 1)))\n",
    "x = np.linspace(min(log_lrs), max(log_lrs), 100)\n",
    "y = reg.coef_ * x + reg.intercept_\n",
    "plt.scatter(log_lrs, rmse_scores.reshape((-1, 1)))\n",
    "plt.plot(x, y.reshape((-1, 1)))\n",
    "plt.xlabel(\"log(learning rate)\")\n",
    "plt.ylabel(\"RMSE\")"
   ]
  },
  {
   "cell_type": "code",
   "execution_count": null,
   "id": "18f464dc-717d-4e18-b58d-45ef3e9ed334",
   "metadata": {},
   "outputs": [],
   "source": [
    "df = pd.DataFrame([trial[\"hyperparameters\"][\"values\"] for trial in rmse_trials])\n",
    "df[\"trial id\"] = [trial[\"trial_id\"] for trial in rmse_trials]\n",
    "df[\"rmse\"] = [trial[\"score\"] for trial in rmse_trials]\n",
    "df"
   ]
  },
  {
   "cell_type": "code",
   "execution_count": null,
   "id": "28206636-8dcd-44de-a6e5-14c4cae03c7f",
   "metadata": {},
   "outputs": [],
   "source": [
    "df.to_pickle(\"tuning/dataframe.pkl\")"
   ]
  }
 ],
 "metadata": {
  "kernelspec": {
   "display_name": "Python 3 (ipykernel)",
   "language": "python",
   "name": "python3"
  },
  "language_info": {
   "codemirror_mode": {
    "name": "ipython",
    "version": 3
   },
   "file_extension": ".py",
   "mimetype": "text/x-python",
   "name": "python",
   "nbconvert_exporter": "python",
   "pygments_lexer": "ipython3",
   "version": "3.11.9"
  }
 },
 "nbformat": 4,
 "nbformat_minor": 5
}
