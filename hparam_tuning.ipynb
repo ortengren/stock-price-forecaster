{
 "cells": [
  {
   "cell_type": "code",
   "execution_count": 1,
   "id": "0617e923-5bed-41b5-bd6c-4bb3262edeb7",
   "metadata": {},
   "outputs": [
    {
     "name": "stderr",
     "output_type": "stream",
     "text": [
      "2024-08-03 17:37:36.022342: I tensorflow/core/platform/cpu_feature_guard.cc:210] This TensorFlow binary is optimized to use available CPU instructions in performance-critical operations.\n",
      "To enable the following instructions: SSE4.1 SSE4.2 AVX AVX2 FMA, in other operations, rebuild TensorFlow with the appropriate compiler flags.\n"
     ]
    }
   ],
   "source": [
    "import json\n",
    "import copy\n",
    "import joblib\n",
    "import numpy as np\n",
    "import pandas as pd\n",
    "import matplotlib.pyplot as plt\n",
    "import tensorflow as tf\n",
    "import keras\n",
    "import keras_tuner\n",
    "from dataclasses import dataclass\n",
    "from typing import List\n",
    "from keras import layers, ops\n",
    "from keras.utils import timeseries_dataset_from_array\n",
    "from sklearn.metrics import mean_squared_error\n",
    "from sklearn.preprocessing import MinMaxScaler, StandardScaler, PowerTransformer, Normalizer\n",
    "from sklearn.linear_model import LinearRegression\n",
    "%matplotlib inline\n",
    "\n",
    "from processing import split_indices, make_stationary, inverse_stationary, scale, unscale, sequence, Stationarizer, Normalizer\n",
    "#from tuner import LSTMLayerHyperparams, ModelHyperparams\n",
    "from plotting import visualize_loss, show_plot\n",
    "from model_builder import build_model, get_tuner"
   ]
  },
  {
   "cell_type": "code",
   "execution_count": 2,
   "id": "7ae81b31-1c4c-4b9d-b26a-f934e1ee5763",
   "metadata": {},
   "outputs": [],
   "source": [
    "data = pd.read_csv(\"data/YF_AAPL.csv\")[\"Adj Close\"].to_numpy().reshape(-1, 1)\n",
    "\n",
    "train_idx = int(0.7 * np.shape(data)[0])\n",
    "val_idx = int(0.85 * np.shape(data)[0])\n",
    "\n",
    "train_data = data[:train_idx]\n",
    "val_data = data[train_idx:val_idx]\n",
    "non_test_data = data[:val_idx]\n",
    "test_data = data[val_idx:]"
   ]
  },
  {
   "cell_type": "code",
   "execution_count": 3,
   "id": "e41fe917-dfe6-4e4d-bb58-0a7945487e02",
   "metadata": {},
   "outputs": [
    {
     "data": {
      "text/plain": [
       "array([[31.91248322],\n",
       "       [31.92647171],\n",
       "       [32.57902908],\n",
       "       [32.38559341],\n",
       "       [32.5766983 ],\n",
       "       [32.47415924],\n",
       "       [32.51610565],\n",
       "       [32.39491653],\n",
       "       [32.32033157],\n",
       "       [32.42753601],\n",
       "       [32.44152069],\n",
       "       [32.39258194],\n",
       "       [32.7351799 ],\n",
       "       [32.78879166],\n",
       "       [32.6256485 ],\n",
       "       [32.9682312 ],\n",
       "       [32.5906868 ],\n",
       "       [32.9589119 ],\n",
       "       [32.84238052],\n",
       "       [32.77712631]])"
      ]
     },
     "execution_count": 3,
     "metadata": {},
     "output_type": "execute_result"
    }
   ],
   "source": [
    "val_data[:20]"
   ]
  },
  {
   "cell_type": "code",
   "execution_count": 4,
   "id": "5f64aafe-44f1-423f-98ef-cb89871a42d5",
   "metadata": {},
   "outputs": [],
   "source": [
    "#train_stater = Stationarizer()\n",
    "#val_stater = Stationarizer()\n",
    "#normer = Normalizer()\n",
    "normer = StandardScaler()\n",
    "#normer = PowerTransformer(standardize=False)\n",
    "#train_data = train_stater.fit_transform(train_data)\n",
    "#val_data = val_stater.fit_transform(val_data)\n",
    "normer.fit(non_test_data)\n",
    "train_data = normer.transform(train_data)\n",
    "val_data = normer.transform(val_data)"
   ]
  },
  {
   "cell_type": "code",
   "execution_count": 5,
   "id": "4caca967-7a52-4ead-bbc7-d9c6235c30d6",
   "metadata": {},
   "outputs": [
    {
     "data": {
      "text/plain": [
       "array([[-0.73677596],\n",
       "       [-0.74013057],\n",
       "       [-0.73959742],\n",
       "       ...,\n",
       "       [ 0.72812825],\n",
       "       [ 0.72176291],\n",
       "       [ 0.72318917]])"
      ]
     },
     "execution_count": 5,
     "metadata": {},
     "output_type": "execute_result"
    }
   ],
   "source": [
    "train_data"
   ]
  },
  {
   "cell_type": "code",
   "execution_count": 6,
   "id": "f3164a0a-344a-45c3-8313-d17ff2b02e4c",
   "metadata": {},
   "outputs": [
    {
     "data": {
      "text/plain": [
       "['AAPL_normer.gz']"
      ]
     },
     "execution_count": 6,
     "metadata": {},
     "output_type": "execute_result"
    }
   ],
   "source": [
    "joblib.dump(normer, \"AAPL_normer.gz\")"
   ]
  },
  {
   "cell_type": "code",
   "execution_count": 7,
   "id": "429e28e9-f577-4bf1-ad11-e82578865590",
   "metadata": {},
   "outputs": [
    {
     "name": "stdout",
     "output_type": "stream",
     "text": [
      "Input shape: (16, 20, 1)\n",
      "Target shape: (16, 1)\n"
     ]
    },
    {
     "name": "stderr",
     "output_type": "stream",
     "text": [
      "2024-08-03 17:37:37.621126: W tensorflow/core/framework/local_rendezvous.cc:404] Local rendezvous is aborting with status: OUT_OF_RANGE: End of sequence\n"
     ]
    }
   ],
   "source": [
    "train_ds = timeseries_dataset_from_array(\n",
    "    train_data[:-20],\n",
    "    train_data[20:],\n",
    "    sequence_length=20,\n",
    "    batch_size=16,\n",
    "    shuffle=True\n",
    ")\n",
    "val_ds = timeseries_dataset_from_array(\n",
    "    val_data[:-20],\n",
    "    val_data[20:],\n",
    "    sequence_length=20,\n",
    "    batch_size=16,\n",
    "    shuffle=True\n",
    ")\n",
    "\n",
    "for batch in train_ds.take(1):\n",
    "    inputs, targets = batch\n",
    "\n",
    "print(\"Input shape:\", inputs.numpy().shape)\n",
    "print(\"Target shape:\", targets.numpy().shape)"
   ]
  },
  {
   "cell_type": "code",
   "execution_count": 8,
   "id": "468f5e19-faa1-4bae-86ad-93f0dc9099da",
   "metadata": {},
   "outputs": [],
   "source": [
    "train_ds.save(\"data/AAPL_ds/train\")\n",
    "val_ds.save(\"data/AAPL_ds/val\")"
   ]
  },
  {
   "cell_type": "code",
   "execution_count": null,
   "id": "7ee6cd21-be32-4f22-8859-76d485e6f15f",
   "metadata": {},
   "outputs": [
    {
     "name": "stdout",
     "output_type": "stream",
     "text": [
      "Trial 84 Complete [00h 01m 09s]\n",
      "val_mse: 2.3316116333007812\n",
      "\n",
      "Best val_mse So Far: 1.3993076086044312\n",
      "Total elapsed time: 01h 31m 08s\n",
      "\n",
      "Search: Running Trial #85\n",
      "\n",
      "Value             |Best Value So Far |Hyperparameter\n",
      "3                 |3                 |num_layers\n",
      "112               |32                |units_0\n",
      "tanh              |tanh              |activation_0\n",
      "sigmoid           |tanh              |recurrent_activation_0\n",
      "0                 |0.15              |dropout_0\n",
      "0.6               |0.6               |recurrent_dropout_0\n",
      "0.0061575         |0.00047207        |lr\n",
      "112               |112               |units_1\n",
      "tanh              |sigmoid           |activation_1\n",
      "tanh              |tanh              |recurrent_activation_1\n",
      "0.15              |0.45              |dropout_1\n",
      "0.15              |0.45              |recurrent_dropout_1\n",
      "80                |48                |units_2\n",
      "tanh              |sigmoid           |activation_2\n",
      "sigmoid           |tanh              |recurrent_activation_2\n",
      "0.3               |0.15              |dropout_2\n",
      "0.45              |0                 |recurrent_dropout_2\n",
      "16                |112               |units_3\n",
      "sigmoid           |sigmoid           |activation_3\n",
      "sigmoid           |sigmoid           |recurrent_activation_3\n",
      "0.6               |0                 |dropout_3\n",
      "0                 |0.6               |recurrent_dropout_3\n",
      "\n",
      "Epoch 1/15\n"
     ]
    }
   ],
   "source": [
    "tuner = get_tuner()\n",
    "tuner.search(train_ds, epochs=15, validation_data=val_ds)"
   ]
  },
  {
   "cell_type": "code",
   "execution_count": null,
   "id": "c6aeaff2-7526-452e-89cb-0581b0525679",
   "metadata": {
    "scrolled": true
   },
   "outputs": [],
   "source": [
    "trials = list()\n",
    "for n in range(100):\n",
    "    path = f\"tuning/stock_predictor/trial_{n:03d}/trial.json\"\n",
    "    with open(path, mode=\"r\") as f:\n",
    "        trial = json.load(f)\n",
    "        trials.append(trial)\n",
    "\n",
    "#trials[0]"
   ]
  },
  {
   "cell_type": "code",
   "execution_count": null,
   "id": "0a529a16-bb6c-475f-b72f-4ee000544769",
   "metadata": {},
   "outputs": [],
   "source": [
    "def sort(array):\n",
    "    \"\"\"Sort the array by using quicksort.\"\"\"\n",
    "\n",
    "    less = []\n",
    "    equal = []\n",
    "    greater = []\n",
    "\n",
    "    if len(array) > 1:\n",
    "        pivot = array[0][\"score\"]\n",
    "        for x in array:\n",
    "            if x[\"score\"] < pivot:\n",
    "                less.append(x)\n",
    "            elif x[\"score\"] == pivot:\n",
    "                equal.append(x)\n",
    "            elif x[\"score\"] > pivot:\n",
    "                greater.append(x)\n",
    "        return sort(less)+equal+sort(greater)\n",
    "    else:\n",
    "        return array"
   ]
  },
  {
   "cell_type": "code",
   "execution_count": null,
   "id": "e274e964-dae9-43a8-8c8e-38ea679b3383",
   "metadata": {},
   "outputs": [],
   "source": [
    "sorted_trials = sort(trials)\n",
    "tmp = copy.deepcopy(sorted_trials)\n",
    "rmse_trials = list()\n",
    "for trial in tmp:\n",
    "    trial.update({\"score\" : np.sqrt(trial[\"score\"])})\n",
    "    rmse_trials.append(trial)\n"
   ]
  },
  {
   "cell_type": "code",
   "execution_count": null,
   "id": "8db32b24-f952-4050-b63b-274231bf2623",
   "metadata": {},
   "outputs": [],
   "source": [
    "bins = np.linspace(min([x[\"score\"] for x in rmse_trials]), max([x[\"score\"] for x in rmse_trials]), 25)"
   ]
  },
  {
   "cell_type": "code",
   "execution_count": null,
   "id": "fbed6acb-3309-4682-98f8-292834c0b6c7",
   "metadata": {},
   "outputs": [],
   "source": [
    "counts = [[cutoff, 0] for cutoff in bins]\n",
    "t = 0\n",
    "c = 0\n",
    "while t < len(rmse_trials) and c < len(counts):\n",
    "    if rmse_trials[t][\"score\"] <= counts[c][0]:\n",
    "        counts[c][1] += 1\n",
    "        t += 1\n",
    "    else:\n",
    "        c += 1\n",
    "\n",
    "np.sum([el[1] for el in counts])"
   ]
  },
  {
   "cell_type": "code",
   "execution_count": null,
   "id": "1ed4471b-6f57-4086-bf00-d279115d9b34",
   "metadata": {},
   "outputs": [],
   "source": [
    "scx = list()\n",
    "heights = list()\n",
    "for el in counts:\n",
    "    scx.append(el[0])\n",
    "    heights.append(el[1])\n",
    "\n",
    "plt.bar(scx, heights, edgecolor=\"black\", width=0.016)\n",
    "plt.xlabel(\"RMSE\")\n",
    "plt.ylabel(\"number of occurrences\")\n",
    "plt.title(\"Score distribution\")"
   ]
  },
  {
   "cell_type": "code",
   "execution_count": null,
   "id": "3b608da3-c5b5-4771-95f0-a430e67f0e6d",
   "metadata": {},
   "outputs": [],
   "source": [
    "num_layers = [trial[\"hyperparameters\"][\"values\"][\"num_layers\"] for trial in rmse_trials]\n",
    "rmse_scores = np.array([trial[\"score\"] for trial in rmse_trials])\n",
    "plt.scatter(num_layers, rmse_scores)\n",
    "plt.xlabel(\"number of LSTM layers\")\n",
    "plt.ylabel(\"RMSE\")\n",
    "\n",
    "reg = LinearRegression()\n",
    "reg.fit(np.array(num_layers).reshape((-1, 1)), np.array(rmse_scores).reshape((-1, 1)))\n",
    "x = np.linspace(min(num_layers), max(num_layers), 100)\n",
    "plt.plot(x, np.array(reg.coef_ * x + reg.intercept_).reshape((-1, 1)))"
   ]
  },
  {
   "cell_type": "code",
   "execution_count": null,
   "id": "ecfe5ba9-3056-4911-bf70-9eb8ffe8d9e9",
   "metadata": {},
   "outputs": [],
   "source": [
    "log_lrs = np.array([np.log10(trial[\"hyperparameters\"][\"values\"][\"lr\"]) for trial in rmse_trials])\n",
    "reg.fit(log_lrs.reshape((-1, 1)), rmse_scores.reshape((-1, 1)))\n",
    "x = np.linspace(min(log_lrs), max(log_lrs), 100)\n",
    "y = reg.coef_ * x + reg.intercept_\n",
    "plt.scatter(log_lrs, rmse_scores.reshape((-1, 1)))\n",
    "plt.plot(x, y.reshape((-1, 1)))\n",
    "plt.xlabel(\"log(learning rate)\")\n",
    "plt.ylabel(\"RMSE\")"
   ]
  },
  {
   "cell_type": "code",
   "execution_count": null,
   "id": "18f464dc-717d-4e18-b58d-45ef3e9ed334",
   "metadata": {},
   "outputs": [],
   "source": [
    "df = pd.DataFrame([trial[\"hyperparameters\"][\"values\"] for trial in rmse_trials])\n",
    "df[\"trial id\"] = [trial[\"trial_id\"] for trial in rmse_trials]\n",
    "df[\"rmse\"] = [trial[\"score\"] for trial in rmse_trials]\n",
    "df"
   ]
  },
  {
   "cell_type": "code",
   "execution_count": null,
   "id": "28206636-8dcd-44de-a6e5-14c4cae03c7f",
   "metadata": {},
   "outputs": [],
   "source": [
    "df.to_pickle(\"tuning/dataframe.pkl\")"
   ]
  }
 ],
 "metadata": {
  "kernelspec": {
   "display_name": "Python 3 (ipykernel)",
   "language": "python",
   "name": "python3"
  },
  "language_info": {
   "codemirror_mode": {
    "name": "ipython",
    "version": 3
   },
   "file_extension": ".py",
   "mimetype": "text/x-python",
   "name": "python",
   "nbconvert_exporter": "python",
   "pygments_lexer": "ipython3",
   "version": "3.11.9"
  }
 },
 "nbformat": 4,
 "nbformat_minor": 5
}
