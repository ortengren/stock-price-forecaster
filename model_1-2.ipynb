{
 "cells": [
  {
   "cell_type": "code",
   "execution_count": 117,
   "id": "e445a135-44c0-4e63-8ac8-06795fc56040",
   "metadata": {},
   "outputs": [],
   "source": [
    "import numpy as np\n",
    "import pandas as pd\n",
    "import matplotlib.pyplot as plt\n",
    "import tensorflow as tf\n",
    "import keras\n",
    "from keras import layers, ops\n",
    "from keras.utils import timeseries_dataset_from_array\n",
    "from sklearn.metrics import mean_squared_error\n",
    "from sklearn.preprocessing import MinMaxScaler\n",
    "%matplotlib inline"
   ]
  },
  {
   "cell_type": "code",
   "execution_count": 118,
   "id": "ae2633c5-cd96-48b7-a81e-f7e2c025aebb",
   "metadata": {},
   "outputs": [],
   "source": [
    "csv_data = pd.read_csv(\"data/YF_IBM.csv\")\n",
    "data = csv_data.loc[:, [\"Date\", \"Adj Close\"]]"
   ]
  },
  {
   "cell_type": "code",
   "execution_count": 119,
   "id": "b49f4c85-3d85-4637-a6ca-7609f8e9de0e",
   "metadata": {},
   "outputs": [],
   "source": [
    "def split_indices(data, train_size, val_size):\n",
    "    train_idx = int(train_size * data.shape[0])\n",
    "    val_idx = int((train_size + val_size) * data.shape[0])\n",
    "    return train_idx, val_idx"
   ]
  },
  {
   "cell_type": "code",
   "execution_count": 120,
   "id": "69a0aca1-ea7f-4cce-9461-1ccd1286d350",
   "metadata": {},
   "outputs": [],
   "source": [
    "def make_stationary(data):\n",
    "    diffed = data.copy()\n",
    "    diffed = data.diff()\n",
    "    return diffed\n",
    "\n",
    "def inverse_stationary(original, yhat):\n",
    "    return yhat.to_numpy() + original.loc[:-1].to_numpy()"
   ]
  },
  {
   "cell_type": "code",
   "execution_count": 121,
   "id": "63cd6771-77c2-450d-9efe-c1ba5a1518f6",
   "metadata": {},
   "outputs": [],
   "source": [
    "def scale(data, avail_idx, scaler):\n",
    "    scaler.fit(data[:avail_idx])\n",
    "    return scaler.transform(data)\n",
    "\n",
    "def unscale(data, scaler):\n",
    "    return scaler.inverse_transform(data)"
   ]
  },
  {
   "cell_type": "code",
   "execution_count": 122,
   "id": "69627f76-be32-4366-9aa9-12d160b8bc9a",
   "metadata": {},
   "outputs": [
    {
     "data": {
      "text/html": [
       "<div>\n",
       "<style scoped>\n",
       "    .dataframe tbody tr th:only-of-type {\n",
       "        vertical-align: middle;\n",
       "    }\n",
       "\n",
       "    .dataframe tbody tr th {\n",
       "        vertical-align: top;\n",
       "    }\n",
       "\n",
       "    .dataframe thead th {\n",
       "        text-align: right;\n",
       "    }\n",
       "</style>\n",
       "<table border=\"1\" class=\"dataframe\">\n",
       "  <thead>\n",
       "    <tr style=\"text-align: right;\">\n",
       "      <th></th>\n",
       "      <th>Date</th>\n",
       "      <th>Adj Close</th>\n",
       "    </tr>\n",
       "  </thead>\n",
       "  <tbody>\n",
       "    <tr>\n",
       "      <th>1</th>\n",
       "      <td>2000-01-04</td>\n",
       "      <td>-0.062858</td>\n",
       "    </tr>\n",
       "    <tr>\n",
       "      <th>2</th>\n",
       "      <td>2000-01-05</td>\n",
       "      <td>0.327201</td>\n",
       "    </tr>\n",
       "    <tr>\n",
       "      <th>3</th>\n",
       "      <td>2000-01-06</td>\n",
       "      <td>0.033109</td>\n",
       "    </tr>\n",
       "    <tr>\n",
       "      <th>4</th>\n",
       "      <td>2000-01-07</td>\n",
       "      <td>0.107409</td>\n",
       "    </tr>\n",
       "    <tr>\n",
       "      <th>5</th>\n",
       "      <td>2000-01-10</td>\n",
       "      <td>0.355060</td>\n",
       "    </tr>\n",
       "    <tr>\n",
       "      <th>...</th>\n",
       "      <td>...</td>\n",
       "      <td>...</td>\n",
       "    </tr>\n",
       "    <tr>\n",
       "      <th>6159</th>\n",
       "      <td>2024-06-27</td>\n",
       "      <td>0.034301</td>\n",
       "    </tr>\n",
       "    <tr>\n",
       "      <th>6160</th>\n",
       "      <td>2024-06-28</td>\n",
       "      <td>0.333670</td>\n",
       "    </tr>\n",
       "    <tr>\n",
       "      <th>6161</th>\n",
       "      <td>2024-07-01</td>\n",
       "      <td>0.338470</td>\n",
       "    </tr>\n",
       "    <tr>\n",
       "      <th>6162</th>\n",
       "      <td>2024-07-02</td>\n",
       "      <td>0.343266</td>\n",
       "    </tr>\n",
       "    <tr>\n",
       "      <th>6163</th>\n",
       "      <td>2024-07-03</td>\n",
       "      <td>-0.018474</td>\n",
       "    </tr>\n",
       "  </tbody>\n",
       "</table>\n",
       "<p>6163 rows × 2 columns</p>\n",
       "</div>"
      ],
      "text/plain": [
       "            Date  Adj Close\n",
       "1     2000-01-04  -0.062858\n",
       "2     2000-01-05   0.327201\n",
       "3     2000-01-06   0.033109\n",
       "4     2000-01-07   0.107409\n",
       "5     2000-01-10   0.355060\n",
       "...          ...        ...\n",
       "6159  2024-06-27   0.034301\n",
       "6160  2024-06-28   0.333670\n",
       "6161  2024-07-01   0.338470\n",
       "6162  2024-07-02   0.343266\n",
       "6163  2024-07-03  -0.018474\n",
       "\n",
       "[6163 rows x 2 columns]"
      ]
     },
     "execution_count": 122,
     "metadata": {},
     "output_type": "execute_result"
    }
   ],
   "source": [
    "train_size = 0.7\n",
    "val_size = 0.15\n",
    "train_idx, val_idx = split_indices(data, train_size, val_size)\n",
    "\n",
    "data.loc[:, \"Adj Close\"] = make_stationary(data[\"Adj Close\"])\n",
    "data = data.dropna()\n",
    "scaler = MinMaxScaler((-1, 1))\n",
    "data[\"Adj Close\"] = scale(data[\"Adj Close\"].to_numpy().reshape((-1, 1)), val_idx, scaler=scaler)\n",
    "data"
   ]
  },
  {
   "cell_type": "code",
   "execution_count": 137,
   "id": "bcf2fd2a-7c32-4524-92f0-0dda01c8c4a2",
   "metadata": {},
   "outputs": [],
   "source": [
    "def sequence(data, seq_len, batch_sz):\n",
    "    x = data[:-seq_len].to_numpy(dtype=np.float32).reshape((-1, 1))\n",
    "    y = data[seq_len:].to_numpy(dtype=np.float32).reshape((-1, 1))\n",
    "    ds = timeseries_dataset_from_array(\n",
    "        x, \n",
    "        y, \n",
    "        sequence_length=seq_len,\n",
    "        batch_size=batch_sz\n",
    "    )\n",
    "    return ds"
   ]
  },
  {
   "cell_type": "code",
   "execution_count": 138,
   "id": "b41763ad-a589-47b0-98fb-31b0a48ebfbe",
   "metadata": {},
   "outputs": [],
   "source": [
    "seq_len = 20\n",
    "batch_sz = 16\n",
    "drop_remain = True\n",
    "\n",
    "train_ds = sequence(data[\"Adj Close\"][:train_idx], seq_len, batch_sz)\n",
    "val_ds = sequence(data[\"Adj Close\"][train_idx+1:val_idx], seq_len, batch_sz)"
   ]
  },
  {
   "cell_type": "code",
   "execution_count": 139,
   "id": "8fa90c6f-b929-4343-9ead-b0ad704a384e",
   "metadata": {},
   "outputs": [
    {
     "name": "stdout",
     "output_type": "stream",
     "text": [
      "Input shape: (16, 20, 1)\n",
      "Target shape: (16, 1)\n"
     ]
    },
    {
     "name": "stderr",
     "output_type": "stream",
     "text": [
      "2024-07-26 16:46:25.090107: W tensorflow/core/framework/local_rendezvous.cc:404] Local rendezvous is aborting with status: OUT_OF_RANGE: End of sequence\n"
     ]
    }
   ],
   "source": [
    "for batch in train_ds.take(1):\n",
    "    inputs, targets = batch\n",
    "\n",
    "print(\"Input shape:\", inputs.numpy().shape)\n",
    "print(\"Target shape:\", targets.numpy().shape)"
   ]
  },
  {
   "cell_type": "code",
   "execution_count": 147,
   "id": "7e29f85c-00c7-49ce-9ea2-cc7b918d3370",
   "metadata": {},
   "outputs": [
    {
     "data": {
      "text/html": [
       "<pre style=\"white-space:pre;overflow-x:auto;line-height:normal;font-family:Menlo,'DejaVu Sans Mono',consolas,'Courier New',monospace\"><span style=\"font-weight: bold\">Model: \"functional_10\"</span>\n",
       "</pre>\n"
      ],
      "text/plain": [
       "\u001b[1mModel: \"functional_10\"\u001b[0m\n"
      ]
     },
     "metadata": {},
     "output_type": "display_data"
    },
    {
     "data": {
      "text/html": [
       "<pre style=\"white-space:pre;overflow-x:auto;line-height:normal;font-family:Menlo,'DejaVu Sans Mono',consolas,'Courier New',monospace\">┏━━━━━━━━━━━━━━━━━━━━━━━━━━━━━━━━━┳━━━━━━━━━━━━━━━━━━━━━━━━┳━━━━━━━━━━━━━━━┓\n",
       "┃<span style=\"font-weight: bold\"> Layer (type)                    </span>┃<span style=\"font-weight: bold\"> Output Shape           </span>┃<span style=\"font-weight: bold\">       Param # </span>┃\n",
       "┡━━━━━━━━━━━━━━━━━━━━━━━━━━━━━━━━━╇━━━━━━━━━━━━━━━━━━━━━━━━╇━━━━━━━━━━━━━━━┩\n",
       "│ Inputs (<span style=\"color: #0087ff; text-decoration-color: #0087ff\">InputLayer</span>)             │ (<span style=\"color: #00af00; text-decoration-color: #00af00\">16</span>, <span style=\"color: #00af00; text-decoration-color: #00af00\">20</span>, <span style=\"color: #00af00; text-decoration-color: #00af00\">1</span>)            │             <span style=\"color: #00af00; text-decoration-color: #00af00\">0</span> │\n",
       "├─────────────────────────────────┼────────────────────────┼───────────────┤\n",
       "│ LSTM_1 (<span style=\"color: #0087ff; text-decoration-color: #0087ff\">LSTM</span>)                   │ (<span style=\"color: #00af00; text-decoration-color: #00af00\">16</span>, <span style=\"color: #00af00; text-decoration-color: #00af00\">20</span>, <span style=\"color: #00af00; text-decoration-color: #00af00\">32</span>)           │         <span style=\"color: #00af00; text-decoration-color: #00af00\">4,352</span> │\n",
       "├─────────────────────────────────┼────────────────────────┼───────────────┤\n",
       "│ LSTM_2 (<span style=\"color: #0087ff; text-decoration-color: #0087ff\">LSTM</span>)                   │ (<span style=\"color: #00af00; text-decoration-color: #00af00\">16</span>, <span style=\"color: #00af00; text-decoration-color: #00af00\">64</span>)               │        <span style=\"color: #00af00; text-decoration-color: #00af00\">24,832</span> │\n",
       "├─────────────────────────────────┼────────────────────────┼───────────────┤\n",
       "│ Output (<span style=\"color: #0087ff; text-decoration-color: #0087ff\">Dense</span>)                  │ (<span style=\"color: #00af00; text-decoration-color: #00af00\">16</span>, <span style=\"color: #00af00; text-decoration-color: #00af00\">1</span>)                │            <span style=\"color: #00af00; text-decoration-color: #00af00\">65</span> │\n",
       "└─────────────────────────────────┴────────────────────────┴───────────────┘\n",
       "</pre>\n"
      ],
      "text/plain": [
       "┏━━━━━━━━━━━━━━━━━━━━━━━━━━━━━━━━━┳━━━━━━━━━━━━━━━━━━━━━━━━┳━━━━━━━━━━━━━━━┓\n",
       "┃\u001b[1m \u001b[0m\u001b[1mLayer (type)                   \u001b[0m\u001b[1m \u001b[0m┃\u001b[1m \u001b[0m\u001b[1mOutput Shape          \u001b[0m\u001b[1m \u001b[0m┃\u001b[1m \u001b[0m\u001b[1m      Param #\u001b[0m\u001b[1m \u001b[0m┃\n",
       "┡━━━━━━━━━━━━━━━━━━━━━━━━━━━━━━━━━╇━━━━━━━━━━━━━━━━━━━━━━━━╇━━━━━━━━━━━━━━━┩\n",
       "│ Inputs (\u001b[38;5;33mInputLayer\u001b[0m)             │ (\u001b[38;5;34m16\u001b[0m, \u001b[38;5;34m20\u001b[0m, \u001b[38;5;34m1\u001b[0m)            │             \u001b[38;5;34m0\u001b[0m │\n",
       "├─────────────────────────────────┼────────────────────────┼───────────────┤\n",
       "│ LSTM_1 (\u001b[38;5;33mLSTM\u001b[0m)                   │ (\u001b[38;5;34m16\u001b[0m, \u001b[38;5;34m20\u001b[0m, \u001b[38;5;34m32\u001b[0m)           │         \u001b[38;5;34m4,352\u001b[0m │\n",
       "├─────────────────────────────────┼────────────────────────┼───────────────┤\n",
       "│ LSTM_2 (\u001b[38;5;33mLSTM\u001b[0m)                   │ (\u001b[38;5;34m16\u001b[0m, \u001b[38;5;34m64\u001b[0m)               │        \u001b[38;5;34m24,832\u001b[0m │\n",
       "├─────────────────────────────────┼────────────────────────┼───────────────┤\n",
       "│ Output (\u001b[38;5;33mDense\u001b[0m)                  │ (\u001b[38;5;34m16\u001b[0m, \u001b[38;5;34m1\u001b[0m)                │            \u001b[38;5;34m65\u001b[0m │\n",
       "└─────────────────────────────────┴────────────────────────┴───────────────┘\n"
      ]
     },
     "metadata": {},
     "output_type": "display_data"
    },
    {
     "data": {
      "text/html": [
       "<pre style=\"white-space:pre;overflow-x:auto;line-height:normal;font-family:Menlo,'DejaVu Sans Mono',consolas,'Courier New',monospace\"><span style=\"font-weight: bold\"> Total params: </span><span style=\"color: #00af00; text-decoration-color: #00af00\">29,249</span> (114.25 KB)\n",
       "</pre>\n"
      ],
      "text/plain": [
       "\u001b[1m Total params: \u001b[0m\u001b[38;5;34m29,249\u001b[0m (114.25 KB)\n"
      ]
     },
     "metadata": {},
     "output_type": "display_data"
    },
    {
     "data": {
      "text/html": [
       "<pre style=\"white-space:pre;overflow-x:auto;line-height:normal;font-family:Menlo,'DejaVu Sans Mono',consolas,'Courier New',monospace\"><span style=\"font-weight: bold\"> Trainable params: </span><span style=\"color: #00af00; text-decoration-color: #00af00\">29,249</span> (114.25 KB)\n",
       "</pre>\n"
      ],
      "text/plain": [
       "\u001b[1m Trainable params: \u001b[0m\u001b[38;5;34m29,249\u001b[0m (114.25 KB)\n"
      ]
     },
     "metadata": {},
     "output_type": "display_data"
    },
    {
     "data": {
      "text/html": [
       "<pre style=\"white-space:pre;overflow-x:auto;line-height:normal;font-family:Menlo,'DejaVu Sans Mono',consolas,'Courier New',monospace\"><span style=\"font-weight: bold\"> Non-trainable params: </span><span style=\"color: #00af00; text-decoration-color: #00af00\">0</span> (0.00 B)\n",
       "</pre>\n"
      ],
      "text/plain": [
       "\u001b[1m Non-trainable params: \u001b[0m\u001b[38;5;34m0\u001b[0m (0.00 B)\n"
      ]
     },
     "metadata": {},
     "output_type": "display_data"
    }
   ],
   "source": [
    "lstm_hparams = {\n",
    "    \"units\" : [32, 64],\n",
    "    \"activation\" : [\"relu\", \"relu\"],\n",
    "    \"return_sequences\" : [True, False],\n",
    "    \"recurrent_activation\" : [\"sigmoid\", \"sigmoid\"],\n",
    "    \"dropout\" : [0.4, 0.5],\n",
    "    \"recurrent_dropout\" : [0., 0.],\n",
    "    \"stateful\" : [False, False],\n",
    "}\n",
    "\n",
    "inputs = layers.Input(\n",
    "    shape=(inputs.shape[1], inputs.shape[2]), \n",
    "    batch_size=batch_sz, \n",
    "    name=\"Inputs\"\n",
    ")\n",
    "lstm_1 = layers.LSTM(\n",
    "    lstm_hparams[\"units\"][0], \n",
    "    activation=lstm_hparams[\"activation\"][0], \n",
    "    return_sequences=lstm_hparams[\"return_sequences\"][0],\n",
    "    recurrent_activation=lstm_hparams[\"recurrent_activation\"][0],\n",
    "    dropout=lstm_hparams[\"dropout\"][0],\n",
    "    recurrent_dropout=lstm_hparams[\"recurrent_dropout\"][0],\n",
    "    stateful=lstm_hparams[\"stateful\"][0],\n",
    "    name=\"LSTM_1\"\n",
    ")(inputs)\n",
    "lstm_2 = layers.LSTM(\n",
    "    lstm_hparams[\"units\"][1], \n",
    "    activation=lstm_hparams[\"activation\"][1], \n",
    "    return_sequences=lstm_hparams[\"return_sequences\"][1],\n",
    "    recurrent_activation=lstm_hparams[\"recurrent_activation\"][1],\n",
    "    dropout=lstm_hparams[\"dropout\"][1],\n",
    "    recurrent_dropout=lstm_hparams[\"recurrent_dropout\"][1],\n",
    "    stateful=lstm_hparams[\"stateful\"][1],\n",
    "    name=\"LSTM_2\"\n",
    ")(lstm_1)\n",
    "output = layers.Dense(1, name=\"Output\")(lstm_2)\n",
    "\n",
    "model = keras.Model(inputs=inputs, outputs=output)\n",
    "model.compile(optimizer=\"adam\", loss=\"mse\")\n",
    "model.summary()"
   ]
  },
  {
   "cell_type": "code",
   "execution_count": 148,
   "id": "0d3cf9d3-fa3b-4e52-a1a2-4a5db3600ae0",
   "metadata": {},
   "outputs": [],
   "source": [
    "chkpt_path = \"model_checkpoint.weights.keras\"\n",
    "es_cb = keras.callbacks.EarlyStopping(monitor=\"val_loss\", min_delta=0, patience=10)\n",
    "chkpt_cb = keras.callbacks.ModelCheckpoint(\n",
    "    monitor=\"val_loss\",\n",
    "    filepath=chkpt_path,\n",
    "    verbose=1,\n",
    "    save_best_only=True\n",
    ")"
   ]
  },
  {
   "cell_type": "code",
   "execution_count": 149,
   "id": "211c7e6e-261a-4b80-8214-034b010634d1",
   "metadata": {},
   "outputs": [
    {
     "name": "stdout",
     "output_type": "stream",
     "text": [
      "Epoch 1/50\n",
      "\u001b[1m264/268\u001b[0m \u001b[32m━━━━━━━━━━━━━━━━━━━\u001b[0m\u001b[37m━\u001b[0m \u001b[1m0s\u001b[0m 8ms/step - loss: 0.0143\n",
      "Epoch 1: val_loss improved from inf to 0.02670, saving model to model_checkpoint.weights.keras\n",
      "\u001b[1m268/268\u001b[0m \u001b[32m━━━━━━━━━━━━━━━━━━━━\u001b[0m\u001b[37m\u001b[0m \u001b[1m4s\u001b[0m 10ms/step - loss: 0.0142 - val_loss: 0.0267\n",
      "Epoch 2/50\n",
      "\u001b[1m265/268\u001b[0m \u001b[32m━━━━━━━━━━━━━━━━━━━\u001b[0m\u001b[37m━\u001b[0m \u001b[1m0s\u001b[0m 8ms/step - loss: 0.0123\n",
      "Epoch 2: val_loss did not improve from 0.02670\n",
      "\u001b[1m268/268\u001b[0m \u001b[32m━━━━━━━━━━━━━━━━━━━━\u001b[0m\u001b[37m\u001b[0m \u001b[1m2s\u001b[0m 9ms/step - loss: 0.0123 - val_loss: 0.0268\n",
      "Epoch 3/50\n",
      "\u001b[1m266/268\u001b[0m \u001b[32m━━━━━━━━━━━━━━━━━━━\u001b[0m\u001b[37m━\u001b[0m \u001b[1m0s\u001b[0m 8ms/step - loss: 0.0123\n",
      "Epoch 3: val_loss did not improve from 0.02670\n",
      "\u001b[1m268/268\u001b[0m \u001b[32m━━━━━━━━━━━━━━━━━━━━\u001b[0m\u001b[37m\u001b[0m \u001b[1m2s\u001b[0m 9ms/step - loss: 0.0123 - val_loss: 0.0269\n",
      "Epoch 4/50\n",
      "\u001b[1m267/268\u001b[0m \u001b[32m━━━━━━━━━━━━━━━━━━━\u001b[0m\u001b[37m━\u001b[0m \u001b[1m0s\u001b[0m 8ms/step - loss: 0.0123\n",
      "Epoch 4: val_loss did not improve from 0.02670\n",
      "\u001b[1m268/268\u001b[0m \u001b[32m━━━━━━━━━━━━━━━━━━━━\u001b[0m\u001b[37m\u001b[0m \u001b[1m2s\u001b[0m 9ms/step - loss: 0.0123 - val_loss: 0.0268\n",
      "Epoch 5/50\n",
      "\u001b[1m265/268\u001b[0m \u001b[32m━━━━━━━━━━━━━━━━━━━\u001b[0m\u001b[37m━\u001b[0m \u001b[1m0s\u001b[0m 8ms/step - loss: 0.0123\n",
      "Epoch 5: val_loss did not improve from 0.02670\n",
      "\u001b[1m268/268\u001b[0m \u001b[32m━━━━━━━━━━━━━━━━━━━━\u001b[0m\u001b[37m\u001b[0m \u001b[1m2s\u001b[0m 9ms/step - loss: 0.0123 - val_loss: 0.0267\n",
      "Epoch 6/50\n",
      "\u001b[1m266/268\u001b[0m \u001b[32m━━━━━━━━━━━━━━━━━━━\u001b[0m\u001b[37m━\u001b[0m \u001b[1m0s\u001b[0m 9ms/step - loss: 0.0123\n",
      "Epoch 6: val_loss did not improve from 0.02670\n",
      "\u001b[1m268/268\u001b[0m \u001b[32m━━━━━━━━━━━━━━━━━━━━\u001b[0m\u001b[37m\u001b[0m \u001b[1m3s\u001b[0m 10ms/step - loss: 0.0123 - val_loss: 0.0267\n",
      "Epoch 7/50\n",
      "\u001b[1m267/268\u001b[0m \u001b[32m━━━━━━━━━━━━━━━━━━━\u001b[0m\u001b[37m━\u001b[0m \u001b[1m0s\u001b[0m 9ms/step - loss: 0.0123\n",
      "Epoch 7: val_loss improved from 0.02670 to 0.02668, saving model to model_checkpoint.weights.keras\n",
      "\u001b[1m268/268\u001b[0m \u001b[32m━━━━━━━━━━━━━━━━━━━━\u001b[0m\u001b[37m\u001b[0m \u001b[1m3s\u001b[0m 10ms/step - loss: 0.0123 - val_loss: 0.0267\n",
      "Epoch 8/50\n",
      "\u001b[1m264/268\u001b[0m \u001b[32m━━━━━━━━━━━━━━━━━━━\u001b[0m\u001b[37m━\u001b[0m \u001b[1m0s\u001b[0m 9ms/step - loss: 0.0123\n",
      "Epoch 8: val_loss improved from 0.02668 to 0.02663, saving model to model_checkpoint.weights.keras\n",
      "\u001b[1m268/268\u001b[0m \u001b[32m━━━━━━━━━━━━━━━━━━━━\u001b[0m\u001b[37m\u001b[0m \u001b[1m3s\u001b[0m 9ms/step - loss: 0.0123 - val_loss: 0.0266\n",
      "Epoch 9/50\n",
      "\u001b[1m267/268\u001b[0m \u001b[32m━━━━━━━━━━━━━━━━━━━\u001b[0m\u001b[37m━\u001b[0m \u001b[1m0s\u001b[0m 9ms/step - loss: 0.0122\n",
      "Epoch 9: val_loss improved from 0.02663 to 0.02658, saving model to model_checkpoint.weights.keras\n",
      "\u001b[1m268/268\u001b[0m \u001b[32m━━━━━━━━━━━━━━━━━━━━\u001b[0m\u001b[37m\u001b[0m \u001b[1m3s\u001b[0m 10ms/step - loss: 0.0122 - val_loss: 0.0266\n",
      "Epoch 10/50\n",
      "\u001b[1m267/268\u001b[0m \u001b[32m━━━━━━━━━━━━━━━━━━━\u001b[0m\u001b[37m━\u001b[0m \u001b[1m0s\u001b[0m 9ms/step - loss: 0.0122\n",
      "Epoch 10: val_loss did not improve from 0.02658\n",
      "\u001b[1m268/268\u001b[0m \u001b[32m━━━━━━━━━━━━━━━━━━━━\u001b[0m\u001b[37m\u001b[0m \u001b[1m3s\u001b[0m 9ms/step - loss: 0.0122 - val_loss: 0.0266\n",
      "Epoch 11/50\n",
      "\u001b[1m267/268\u001b[0m \u001b[32m━━━━━━━━━━━━━━━━━━━\u001b[0m\u001b[37m━\u001b[0m \u001b[1m0s\u001b[0m 9ms/step - loss: 0.0122\n",
      "Epoch 11: val_loss did not improve from 0.02658\n",
      "\u001b[1m268/268\u001b[0m \u001b[32m━━━━━━━━━━━━━━━━━━━━\u001b[0m\u001b[37m\u001b[0m \u001b[1m2s\u001b[0m 9ms/step - loss: 0.0122 - val_loss: 0.0267\n",
      "Epoch 12/50\n",
      "\u001b[1m265/268\u001b[0m \u001b[32m━━━━━━━━━━━━━━━━━━━\u001b[0m\u001b[37m━\u001b[0m \u001b[1m0s\u001b[0m 9ms/step - loss: 0.0123\n",
      "Epoch 12: val_loss did not improve from 0.02658\n",
      "\u001b[1m268/268\u001b[0m \u001b[32m━━━━━━━━━━━━━━━━━━━━\u001b[0m\u001b[37m\u001b[0m \u001b[1m3s\u001b[0m 9ms/step - loss: 0.0123 - val_loss: 0.0266\n",
      "Epoch 13/50\n",
      "\u001b[1m265/268\u001b[0m \u001b[32m━━━━━━━━━━━━━━━━━━━\u001b[0m\u001b[37m━\u001b[0m \u001b[1m0s\u001b[0m 9ms/step - loss: 0.0123\n",
      "Epoch 13: val_loss improved from 0.02658 to 0.02652, saving model to model_checkpoint.weights.keras\n",
      "\u001b[1m268/268\u001b[0m \u001b[32m━━━━━━━━━━━━━━━━━━━━\u001b[0m\u001b[37m\u001b[0m \u001b[1m3s\u001b[0m 10ms/step - loss: 0.0123 - val_loss: 0.0265\n",
      "Epoch 14/50\n",
      "\u001b[1m267/268\u001b[0m \u001b[32m━━━━━━━━━━━━━━━━━━━\u001b[0m\u001b[37m━\u001b[0m \u001b[1m0s\u001b[0m 9ms/step - loss: 0.0122\n",
      "Epoch 14: val_loss did not improve from 0.02652\n",
      "\u001b[1m268/268\u001b[0m \u001b[32m━━━━━━━━━━━━━━━━━━━━\u001b[0m\u001b[37m\u001b[0m \u001b[1m3s\u001b[0m 9ms/step - loss: 0.0122 - val_loss: 0.0265\n",
      "Epoch 15/50\n",
      "\u001b[1m263/268\u001b[0m \u001b[32m━━━━━━━━━━━━━━━━━━━\u001b[0m\u001b[37m━\u001b[0m \u001b[1m0s\u001b[0m 9ms/step - loss: 0.0122\n",
      "Epoch 15: val_loss improved from 0.02652 to 0.02651, saving model to model_checkpoint.weights.keras\n",
      "\u001b[1m268/268\u001b[0m \u001b[32m━━━━━━━━━━━━━━━━━━━━\u001b[0m\u001b[37m\u001b[0m \u001b[1m3s\u001b[0m 9ms/step - loss: 0.0122 - val_loss: 0.0265\n",
      "Epoch 16/50\n",
      "\u001b[1m264/268\u001b[0m \u001b[32m━━━━━━━━━━━━━━━━━━━\u001b[0m\u001b[37m━\u001b[0m \u001b[1m0s\u001b[0m 9ms/step - loss: 0.0122\n",
      "Epoch 16: val_loss improved from 0.02651 to 0.02650, saving model to model_checkpoint.weights.keras\n",
      "\u001b[1m268/268\u001b[0m \u001b[32m━━━━━━━━━━━━━━━━━━━━\u001b[0m\u001b[37m\u001b[0m \u001b[1m3s\u001b[0m 9ms/step - loss: 0.0122 - val_loss: 0.0265\n",
      "Epoch 17/50\n",
      "\u001b[1m266/268\u001b[0m \u001b[32m━━━━━━━━━━━━━━━━━━━\u001b[0m\u001b[37m━\u001b[0m \u001b[1m0s\u001b[0m 9ms/step - loss: 0.0122\n",
      "Epoch 17: val_loss improved from 0.02650 to 0.02647, saving model to model_checkpoint.weights.keras\n",
      "\u001b[1m268/268\u001b[0m \u001b[32m━━━━━━━━━━━━━━━━━━━━\u001b[0m\u001b[37m\u001b[0m \u001b[1m3s\u001b[0m 10ms/step - loss: 0.0122 - val_loss: 0.0265\n",
      "Epoch 18/50\n",
      "\u001b[1m267/268\u001b[0m \u001b[32m━━━━━━━━━━━━━━━━━━━\u001b[0m\u001b[37m━\u001b[0m \u001b[1m0s\u001b[0m 9ms/step - loss: 0.0122\n",
      "Epoch 18: val_loss improved from 0.02647 to 0.02647, saving model to model_checkpoint.weights.keras\n",
      "\u001b[1m268/268\u001b[0m \u001b[32m━━━━━━━━━━━━━━━━━━━━\u001b[0m\u001b[37m\u001b[0m \u001b[1m3s\u001b[0m 10ms/step - loss: 0.0122 - val_loss: 0.0265\n",
      "Epoch 19/50\n",
      "\u001b[1m265/268\u001b[0m \u001b[32m━━━━━━━━━━━━━━━━━━━\u001b[0m\u001b[37m━\u001b[0m \u001b[1m0s\u001b[0m 9ms/step - loss: 0.0122\n",
      "Epoch 19: val_loss did not improve from 0.02647\n",
      "\u001b[1m268/268\u001b[0m \u001b[32m━━━━━━━━━━━━━━━━━━━━\u001b[0m\u001b[37m\u001b[0m \u001b[1m3s\u001b[0m 10ms/step - loss: 0.0122 - val_loss: 0.0265\n",
      "Epoch 20/50\n",
      "\u001b[1m265/268\u001b[0m \u001b[32m━━━━━━━━━━━━━━━━━━━\u001b[0m\u001b[37m━\u001b[0m \u001b[1m0s\u001b[0m 9ms/step - loss: 0.0122\n",
      "Epoch 20: val_loss did not improve from 0.02647\n",
      "\u001b[1m268/268\u001b[0m \u001b[32m━━━━━━━━━━━━━━━━━━━━\u001b[0m\u001b[37m\u001b[0m \u001b[1m3s\u001b[0m 10ms/step - loss: 0.0122 - val_loss: 0.0265\n",
      "Epoch 21/50\n",
      "\u001b[1m263/268\u001b[0m \u001b[32m━━━━━━━━━━━━━━━━━━━\u001b[0m\u001b[37m━\u001b[0m \u001b[1m0s\u001b[0m 9ms/step - loss: 0.0122\n",
      "Epoch 21: val_loss did not improve from 0.02647\n",
      "\u001b[1m268/268\u001b[0m \u001b[32m━━━━━━━━━━━━━━━━━━━━\u001b[0m\u001b[37m\u001b[0m \u001b[1m3s\u001b[0m 10ms/step - loss: 0.0122 - val_loss: 0.0265\n",
      "Epoch 22/50\n",
      "\u001b[1m263/268\u001b[0m \u001b[32m━━━━━━━━━━━━━━━━━━━\u001b[0m\u001b[37m━\u001b[0m \u001b[1m0s\u001b[0m 9ms/step - loss: 0.0122\n",
      "Epoch 22: val_loss improved from 0.02647 to 0.02646, saving model to model_checkpoint.weights.keras\n",
      "\u001b[1m268/268\u001b[0m \u001b[32m━━━━━━━━━━━━━━━━━━━━\u001b[0m\u001b[37m\u001b[0m \u001b[1m3s\u001b[0m 10ms/step - loss: 0.0122 - val_loss: 0.0265\n",
      "Epoch 23/50\n",
      "\u001b[1m265/268\u001b[0m \u001b[32m━━━━━━━━━━━━━━━━━━━\u001b[0m\u001b[37m━\u001b[0m \u001b[1m0s\u001b[0m 9ms/step - loss: 0.0122\n",
      "Epoch 23: val_loss did not improve from 0.02646\n",
      "\u001b[1m268/268\u001b[0m \u001b[32m━━━━━━━━━━━━━━━━━━━━\u001b[0m\u001b[37m\u001b[0m \u001b[1m3s\u001b[0m 10ms/step - loss: 0.0122 - val_loss: 0.0266\n",
      "Epoch 24/50\n",
      "\u001b[1m265/268\u001b[0m \u001b[32m━━━━━━━━━━━━━━━━━━━\u001b[0m\u001b[37m━\u001b[0m \u001b[1m0s\u001b[0m 9ms/step - loss: 0.0123\n",
      "Epoch 24: val_loss did not improve from 0.02646\n",
      "\u001b[1m268/268\u001b[0m \u001b[32m━━━━━━━━━━━━━━━━━━━━\u001b[0m\u001b[37m\u001b[0m \u001b[1m3s\u001b[0m 10ms/step - loss: 0.0123 - val_loss: 0.0265\n",
      "Epoch 25/50\n",
      "\u001b[1m265/268\u001b[0m \u001b[32m━━━━━━━━━━━━━━━━━━━\u001b[0m\u001b[37m━\u001b[0m \u001b[1m0s\u001b[0m 9ms/step - loss: 0.0123\n",
      "Epoch 25: val_loss did not improve from 0.02646\n",
      "\u001b[1m268/268\u001b[0m \u001b[32m━━━━━━━━━━━━━━━━━━━━\u001b[0m\u001b[37m\u001b[0m \u001b[1m3s\u001b[0m 10ms/step - loss: 0.0122 - val_loss: 0.0265\n",
      "Epoch 26/50\n",
      "\u001b[1m266/268\u001b[0m \u001b[32m━━━━━━━━━━━━━━━━━━━\u001b[0m\u001b[37m━\u001b[0m \u001b[1m0s\u001b[0m 10ms/step - loss: 0.0122\n",
      "Epoch 26: val_loss did not improve from 0.02646\n",
      "\u001b[1m268/268\u001b[0m \u001b[32m━━━━━━━━━━━━━━━━━━━━\u001b[0m\u001b[37m\u001b[0m \u001b[1m3s\u001b[0m 11ms/step - loss: 0.0122 - val_loss: 0.0265\n",
      "Epoch 27/50\n",
      "\u001b[1m264/268\u001b[0m \u001b[32m━━━━━━━━━━━━━━━━━━━\u001b[0m\u001b[37m━\u001b[0m \u001b[1m0s\u001b[0m 9ms/step - loss: 0.0122\n",
      "Epoch 27: val_loss did not improve from 0.02646\n",
      "\u001b[1m268/268\u001b[0m \u001b[32m━━━━━━━━━━━━━━━━━━━━\u001b[0m\u001b[37m\u001b[0m \u001b[1m3s\u001b[0m 10ms/step - loss: 0.0122 - val_loss: 0.0265\n",
      "Epoch 28/50\n",
      "\u001b[1m264/268\u001b[0m \u001b[32m━━━━━━━━━━━━━━━━━━━\u001b[0m\u001b[37m━\u001b[0m \u001b[1m0s\u001b[0m 9ms/step - loss: 0.0123\n",
      "Epoch 28: val_loss did not improve from 0.02646\n",
      "\u001b[1m268/268\u001b[0m \u001b[32m━━━━━━━━━━━━━━━━━━━━\u001b[0m\u001b[37m\u001b[0m \u001b[1m3s\u001b[0m 10ms/step - loss: 0.0122 - val_loss: 0.0265\n",
      "Epoch 29/50\n",
      "\u001b[1m266/268\u001b[0m \u001b[32m━━━━━━━━━━━━━━━━━━━\u001b[0m\u001b[37m━\u001b[0m \u001b[1m0s\u001b[0m 9ms/step - loss: 0.0122\n",
      "Epoch 29: val_loss did not improve from 0.02646\n",
      "\u001b[1m268/268\u001b[0m \u001b[32m━━━━━━━━━━━━━━━━━━━━\u001b[0m\u001b[37m\u001b[0m \u001b[1m3s\u001b[0m 10ms/step - loss: 0.0122 - val_loss: 0.0265\n",
      "Epoch 30/50\n",
      "\u001b[1m268/268\u001b[0m \u001b[32m━━━━━━━━━━━━━━━━━━━━\u001b[0m\u001b[37m\u001b[0m \u001b[1m0s\u001b[0m 9ms/step - loss: 0.0122\n",
      "Epoch 30: val_loss did not improve from 0.02646\n",
      "\u001b[1m268/268\u001b[0m \u001b[32m━━━━━━━━━━━━━━━━━━━━\u001b[0m\u001b[37m\u001b[0m \u001b[1m3s\u001b[0m 10ms/step - loss: 0.0122 - val_loss: 0.0266\n",
      "Epoch 31/50\n",
      "\u001b[1m265/268\u001b[0m \u001b[32m━━━━━━━━━━━━━━━━━━━\u001b[0m\u001b[37m━\u001b[0m \u001b[1m0s\u001b[0m 9ms/step - loss: 0.0123\n",
      "Epoch 31: val_loss did not improve from 0.02646\n",
      "\u001b[1m268/268\u001b[0m \u001b[32m━━━━━━━━━━━━━━━━━━━━\u001b[0m\u001b[37m\u001b[0m \u001b[1m3s\u001b[0m 10ms/step - loss: 0.0122 - val_loss: 0.0265\n",
      "Epoch 32/50\n",
      "\u001b[1m264/268\u001b[0m \u001b[32m━━━━━━━━━━━━━━━━━━━\u001b[0m\u001b[37m━\u001b[0m \u001b[1m0s\u001b[0m 9ms/step - loss: 0.0122\n",
      "Epoch 32: val_loss did not improve from 0.02646\n",
      "\u001b[1m268/268\u001b[0m \u001b[32m━━━━━━━━━━━━━━━━━━━━\u001b[0m\u001b[37m\u001b[0m \u001b[1m3s\u001b[0m 10ms/step - loss: 0.0122 - val_loss: 0.0265\n"
     ]
    }
   ],
   "source": [
    "epochs = 50\n",
    "\n",
    "history = model.fit(\n",
    "    train_ds,\n",
    "    epochs=epochs,\n",
    "    validation_data=val_ds,\n",
    "    callbacks=[es_cb, chkpt_cb],\n",
    ")"
   ]
  },
  {
   "cell_type": "code",
   "execution_count": 150,
   "id": "d4da15a1-3ff0-426d-b75c-1e2153ca1ac3",
   "metadata": {},
   "outputs": [
    {
     "data": {
      "image/png": "[encoded data removed]",
      "text/plain": [
       "<Figure size 640x480 with 1 Axes>"
      ]
     },
     "metadata": {},
     "output_type": "display_data"
    }
   ],
   "source": [
    "def visualize_loss(history, title):\n",
    "    loss = history.history[\"loss\"]\n",
    "    val_loss = history.history[\"val_loss\"]\n",
    "    epochs = range(len(loss))\n",
    "    plt.figure()\n",
    "    plt.plot(epochs, loss, \"b\", label=\"Training loss\")\n",
    "    plt.plot(epochs, val_loss, \"r\", label=\"Validation loss\")\n",
    "    plt.title(title)\n",
    "    plt.xlabel(\"Epochs\")\n",
    "    plt.ylabel(\"Loss\")\n",
    "    plt.legend()\n",
    "    plt.show()\n",
    "\n",
    "\n",
    "visualize_loss(history, \"Training and Validation Loss\")"
   ]
  },
  {
   "cell_type": "code",
   "execution_count": null,
   "id": "19d7b208-1b8e-4dbf-b9ea-086f7f6f5816",
   "metadata": {},
   "outputs": [],
   "source": []
  }
 ],
 "metadata": {
  "kernelspec": {
   "display_name": "Python 3 (ipykernel)",
   "language": "python",
   "name": "python3"
  },
  "language_info": {
   "codemirror_mode": {
    "name": "ipython",
    "version": 3
   },
   "file_extension": ".py",
   "mimetype": "text/x-python",
   "name": "python",
   "nbconvert_exporter": "python",
   "pygments_lexer": "ipython3",
   "version": "3.11.9"
  }
 },
 "nbformat": 4,
 "nbformat_minor": 5
}
