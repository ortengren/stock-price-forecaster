{
 "cells": [
  {
   "cell_type": "code",
   "execution_count": 1,
   "id": "3f89ca48-db14-4960-b74a-a575c218a6bb",
   "metadata": {},
   "outputs": [
    {
     "name": "stderr",
     "output_type": "stream",
     "text": [
      "2024-08-04 19:34:13.296021: I tensorflow/core/platform/cpu_feature_guard.cc:210] This TensorFlow binary is optimized to use available CPU instructions in performance-critical operations.\n",
      "To enable the following instructions: SSE4.1 SSE4.2 AVX AVX2 FMA, in other operations, rebuild TensorFlow with the appropriate compiler flags.\n"
     ]
    }
   ],
   "source": [
    "import json\n",
    "import copy\n",
    "import joblib\n",
    "import numpy as np\n",
    "import pandas as pd\n",
    "import matplotlib.pyplot as plt\n",
    "import tensorflow as tf\n",
    "import keras\n",
    "import keras_tuner\n",
    "from dataclasses import dataclass\n",
    "from typing import List\n",
    "from keras import layers, ops\n",
    "from keras.utils import timeseries_dataset_from_array\n",
    "from sklearn.metrics import mean_squared_error\n",
    "from sklearn.preprocessing import MinMaxScaler, StandardScaler, PowerTransformer\n",
    "from sklearn.linear_model import LinearRegression\n",
    "%matplotlib inline\n",
    "\n",
    "from processing import Stationarizer, Normalizer\n",
    "#from tuner import LSTMLayerHyperparams, ModelHyperparams\n",
    "from plotting import visualize_loss, show_plot\n",
    "from model_builder import build_model, build_spec_model, get_tuner"
   ]
  },
  {
   "cell_type": "code",
   "execution_count": null,
   "id": "d94c8c5e-f339-45a7-9da7-9e87e4f1d87a",
   "metadata": {},
   "outputs": [],
   "source": [
    "model = keras.Sequential()    \n",
    "model.add(keras.Input(\n",
    "      shape=(20, 1),\n",
    "      batch_size=64,\n",
    "      name=\"Inputs\"\n",
    "))\n",
    "model.add(layers.Dense(32, activation=\"gelu\"))\n",
    "model.add(\n",
    "    layers.LSTM(\n",
    "        units=32,\n",
    "        activation=\"tanh\",\n",
    "        recurrent_activation=\"sigmoid\",\n",
    "        dropout=0.414469,\n",
    "        recurrent_dropout=0.148517,\n",
    "        return_sequences=True\n",
    "    )\n",
    ")\n",
    "model.add(\n",
    "    layers.LSTM(\n",
    "        units=32,\n",
    "        activation=\"tanh\",\n",
    "        recurrent_activation=\"sigmoid\",\n",
    "        dropout=0.467546,\n",
    "        recurrent_dropout=0.058174,\n",
    "        return_sequences=False\n",
    "    )\n",
    ")\n",
    "model.add(\n",
    "    layers.Dense(\n",
    "        1,\n",
    "        activation=\"linear\"#\"sigmoid\"#activation=hp.Choice(f\"activation_{num_layers}\", [\"sigmoid\", \"relu\"])\n",
    "    )\n",
    ")\n",
    "model.compile(\n",
    "    optimizer=keras.optimizers.Adam(learning_rate=learning_rate),#, clipnorm=1.0),\n",
    "    loss=\"mse\",\n",
    "    metrics=[\"mse\"],\n",
    ")"
   ]
  }
 ],
 "metadata": {
  "kernelspec": {
   "display_name": "Python 3 (ipykernel)",
   "language": "python",
   "name": "python3"
  },
  "language_info": {
   "codemirror_mode": {
    "name": "ipython",
    "version": 3
   },
   "file_extension": ".py",
   "mimetype": "text/x-python",
   "name": "python",
   "nbconvert_exporter": "python",
   "pygments_lexer": "ipython3",
   "version": "3.11.9"
  }
 },
 "nbformat": 4,
 "nbformat_minor": 5
}
