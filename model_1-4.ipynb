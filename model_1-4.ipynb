{
 "cells": [
  {
   "cell_type": "code",
   "execution_count": 6,
   "id": "0617e923-5bed-41b5-bd6c-4bb3262edeb7",
   "metadata": {},
   "outputs": [],
   "source": [
    "import numpy as np\n",
    "import pandas as pd\n",
    "import matplotlib.pyplot as plt\n",
    "import tensorflow as tf\n",
    "import keras\n",
    "import keras_tuner\n",
    "from dataclasses import dataclass\n",
    "from typing import List\n",
    "from keras import layers, ops\n",
    "from keras.utils import timeseries_dataset_from_array\n",
    "from sklearn.metrics import mean_squared_error\n",
    "from sklearn.preprocessing import MinMaxScaler\n",
    "%matplotlib inline\n",
    "\n",
    "from processing import split_indices, make_stationary, inverse_stationary, scale, unscale, sequence, Stationarizer, Normalizer\n",
    "from tuner import LSTMLayerHyperparams, ModelHyperparams\n",
    "from plotting import visualize_loss, show_plot\n",
    "from model_builder import get_model, build_model, get_tuner"
   ]
  },
  {
   "cell_type": "code",
   "execution_count": 7,
   "id": "7ae81b31-1c4c-4b9d-b26a-f934e1ee5763",
   "metadata": {},
   "outputs": [],
   "source": [
    "data = pd.read_csv(\"data/YF_AAPL.csv\")[\"Adj Close\"].to_numpy().reshape(-1, 1)\n",
    "\n",
    "train_idx = int(0.7 * np.shape(data)[0])\n",
    "val_idx = int(0.85 * np.shape(data)[0])\n",
    "\n",
    "train_data = data[:train_idx]\n",
    "val_data = data[train_idx:val_idx]\n",
    "test_data = data[val_idx:]"
   ]
  },
  {
   "cell_type": "code",
   "execution_count": 8,
   "id": "401c9db6-a76b-4b2f-a3b6-6a20ee7208ef",
   "metadata": {},
   "outputs": [],
   "source": [
    "#train_stater = Stationarizer()\n",
    "#val_stater = Stationarizer()\n",
    "#normer = Normalizer()\n",
    "normer = MinMaxScaler(feature_range=(0, 1))\n",
    "#train_data = train_stater.fit_transform(train_data)\n",
    "#val_data = val_stater.fit_transform(val_data)\n",
    "train_data = normer.fit_transform(train_data)\n",
    "val_data = normer.transform(val_data)"
   ]
  },
  {
   "cell_type": "code",
   "execution_count": 9,
   "id": "429e28e9-f577-4bf1-ad11-e82578865590",
   "metadata": {},
   "outputs": [
    {
     "name": "stdout",
     "output_type": "stream",
     "text": [
      "Input shape: (8, 20, 1)\n",
      "Target shape: (8, 1)\n"
     ]
    },
    {
     "name": "stderr",
     "output_type": "stream",
     "text": [
      "2024-08-02 16:03:24.727248: W tensorflow/core/framework/local_rendezvous.cc:404] Local rendezvous is aborting with status: OUT_OF_RANGE: End of sequence\n"
     ]
    }
   ],
   "source": [
    "train_ds = timeseries_dataset_from_array(\n",
    "    train_data[:-20],\n",
    "    train_data[20:],\n",
    "    sequence_length=20,\n",
    "    batch_size=8,\n",
    "    shuffle=True\n",
    ")\n",
    "val_ds = timeseries_dataset_from_array(\n",
    "    val_data[:-20],\n",
    "    val_data[20:],\n",
    "    sequence_length=20,\n",
    "    batch_size=8,\n",
    "    shuffle=False\n",
    ")\n",
    "\n",
    "for batch in train_ds.take(1):\n",
    "    inputs, targets = batch\n",
    "\n",
    "print(\"Input shape:\", inputs.numpy().shape)\n",
    "print(\"Target shape:\", targets.numpy().shape)"
   ]
  },
  {
   "cell_type": "code",
   "execution_count": null,
   "id": "7ee6cd21-be32-4f22-8859-76d485e6f15f",
   "metadata": {},
   "outputs": [
    {
     "name": "stdout",
     "output_type": "stream",
     "text": [
      "Trial 2 Complete [00h 01m 25s]\n",
      "mse: 0.030466729775071144\n",
      "\n",
      "Best mse So Far: 0.030466729775071144\n",
      "Total elapsed time: 00h 02m 32s\n",
      "\n",
      "Search: Running Trial #3\n",
      "\n",
      "Value             |Best Value So Far |Hyperparameter\n",
      "2                 |2                 |num_layers\n",
      "48                |48                |units_0\n",
      "tanh              |relu              |activation_0\n",
      "sigmoid           |sigmoid           |recurrent_activation_0\n",
      "0                 |0.3               |dropout_0\n",
      "0.5               |0.5               |recurrent_dropout_0\n",
      "relu              |relu              |activation_1\n",
      "0.0016333         |0.035451          |lr\n",
      "80                |16                |units_1\n",
      "sigmoid           |sigmoid           |recurrent_activation_1\n",
      "0.2               |0                 |dropout_1\n",
      "0.4               |0                 |recurrent_dropout_1\n",
      "relu              |sigmoid           |activation_2\n",
      "\n",
      "Epoch 1/20\n",
      "\u001b[1m535/535\u001b[0m \u001b[32m━━━━━━━━━━━━━━━━━━━━\u001b[0m\u001b[37m\u001b[0m \u001b[1m7s\u001b[0m 10ms/step - loss: 0.0161 - mse: 0.0161 - val_loss: 0.1001 - val_mse: 0.1001\n",
      "Epoch 2/20\n",
      "\u001b[1m535/535\u001b[0m \u001b[32m━━━━━━━━━━━━━━━━━━━━\u001b[0m\u001b[37m\u001b[0m \u001b[1m5s\u001b[0m 9ms/step - loss: 0.0013 - mse: 0.0013 - val_loss: 0.1191 - val_mse: 0.1191\n",
      "Epoch 3/20\n",
      "\u001b[1m535/535\u001b[0m \u001b[32m━━━━━━━━━━━━━━━━━━━━\u001b[0m\u001b[37m\u001b[0m \u001b[1m5s\u001b[0m 9ms/step - loss: 0.0010 - mse: 0.0010 - val_loss: 0.1176 - val_mse: 0.1176\n",
      "Epoch 4/20\n",
      "\u001b[1m535/535\u001b[0m \u001b[32m━━━━━━━━━━━━━━━━━━━━\u001b[0m\u001b[37m\u001b[0m \u001b[1m5s\u001b[0m 9ms/step - loss: 9.3476e-04 - mse: 9.3476e-04 - val_loss: 0.1371 - val_mse: 0.1371\n",
      "Epoch 5/20\n",
      "\u001b[1m535/535\u001b[0m \u001b[32m━━━━━━━━━━━━━━━━━━━━\u001b[0m\u001b[37m\u001b[0m \u001b[1m5s\u001b[0m 9ms/step - loss: 0.0011 - mse: 0.0011 - val_loss: 0.1999 - val_mse: 0.1999\n",
      "Epoch 6/20\n",
      "\u001b[1m535/535\u001b[0m \u001b[32m━━━━━━━━━━━━━━━━━━━━\u001b[0m\u001b[37m\u001b[0m \u001b[1m5s\u001b[0m 9ms/step - loss: 9.0069e-04 - mse: 9.0069e-04 - val_loss: 0.2654 - val_mse: 0.2654\n",
      "Epoch 7/20\n",
      "\u001b[1m535/535\u001b[0m \u001b[32m━━━━━━━━━━━━━━━━━━━━\u001b[0m\u001b[37m\u001b[0m \u001b[1m5s\u001b[0m 8ms/step - loss: 7.9907e-04 - mse: 7.9907e-04 - val_loss: 0.2066 - val_mse: 0.2066\n",
      "Epoch 8/20\n",
      "\u001b[1m535/535\u001b[0m \u001b[32m━━━━━━━━━━━━━━━━━━━━\u001b[0m\u001b[37m\u001b[0m \u001b[1m5s\u001b[0m 9ms/step - loss: 0.0010 - mse: 0.0010 - val_loss: 0.2461 - val_mse: 0.2461\n",
      "Epoch 9/20\n",
      "\u001b[1m535/535\u001b[0m \u001b[32m━━━━━━━━━━━━━━━━━━━━\u001b[0m\u001b[37m\u001b[0m \u001b[1m5s\u001b[0m 9ms/step - loss: 8.2259e-04 - mse: 8.2259e-04 - val_loss: 0.3231 - val_mse: 0.3231\n",
      "Epoch 10/20\n",
      "\u001b[1m535/535\u001b[0m \u001b[32m━━━━━━━━━━━━━━━━━━━━\u001b[0m\u001b[37m\u001b[0m \u001b[1m5s\u001b[0m 9ms/step - loss: 9.2963e-04 - mse: 9.2963e-04 - val_loss: 0.1169 - val_mse: 0.1169\n",
      "Epoch 11/20\n",
      "\u001b[1m535/535\u001b[0m \u001b[32m━━━━━━━━━━━━━━━━━━━━\u001b[0m\u001b[37m\u001b[0m \u001b[1m5s\u001b[0m 9ms/step - loss: 7.5829e-04 - mse: 7.5829e-04 - val_loss: 0.2172 - val_mse: 0.2172\n",
      "Epoch 12/20\n",
      "\u001b[1m535/535\u001b[0m \u001b[32m━━━━━━━━━━━━━━━━━━━━\u001b[0m\u001b[37m\u001b[0m \u001b[1m5s\u001b[0m 9ms/step - loss: 6.6963e-04 - mse: 6.6963e-04 - val_loss: 0.2262 - val_mse: 0.2262\n",
      "Epoch 13/20\n",
      "\u001b[1m535/535\u001b[0m \u001b[32m━━━━━━━━━━━━━━━━━━━━\u001b[0m\u001b[37m\u001b[0m \u001b[1m5s\u001b[0m 9ms/step - loss: 6.6689e-04 - mse: 6.6689e-04 - val_loss: 0.2795 - val_mse: 0.2795\n",
      "Epoch 14/20\n",
      "\u001b[1m535/535\u001b[0m \u001b[32m━━━━━━━━━━━━━━━━━━━━\u001b[0m\u001b[37m\u001b[0m \u001b[1m5s\u001b[0m 9ms/step - loss: 6.5421e-04 - mse: 6.5421e-04 - val_loss: 0.3351 - val_mse: 0.3351\n",
      "Epoch 15/20\n",
      "\u001b[1m535/535\u001b[0m \u001b[32m━━━━━━━━━━━━━━━━━━━━\u001b[0m\u001b[37m\u001b[0m \u001b[1m5s\u001b[0m 9ms/step - loss: 5.3989e-04 - mse: 5.3989e-04 - val_loss: 0.3682 - val_mse: 0.3682\n",
      "Epoch 16/20\n",
      "\u001b[1m274/535\u001b[0m \u001b[32m━━━━━━━━━━\u001b[0m\u001b[37m━━━━━━━━━━\u001b[0m \u001b[1m2s\u001b[0m 9ms/step - loss: 5.1029e-04 - mse: 5.1029e-04"
     ]
    }
   ],
   "source": [
    "tuner = get_tuner()\n",
    "tuner.search(train_ds, epochs=20, validation_data=val_ds)"
   ]
  },
  {
   "cell_type": "code",
   "execution_count": null,
   "id": "c6aeaff2-7526-452e-89cb-0581b0525679",
   "metadata": {},
   "outputs": [],
   "source": []
  }
 ],
 "metadata": {
  "kernelspec": {
   "display_name": "Python 3 (ipykernel)",
   "language": "python",
   "name": "python3"
  },
  "language_info": {
   "codemirror_mode": {
    "name": "ipython",
    "version": 3
   },
   "file_extension": ".py",
   "mimetype": "text/x-python",
   "name": "python",
   "nbconvert_exporter": "python",
   "pygments_lexer": "ipython3",
   "version": "3.11.9"
  }
 },
 "nbformat": 4,
 "nbformat_minor": 5
}
