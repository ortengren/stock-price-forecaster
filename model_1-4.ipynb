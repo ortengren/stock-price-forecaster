{
 "cells": [
  {
   "cell_type": "code",
   "execution_count": 1,
   "id": "0617e923-5bed-41b5-bd6c-4bb3262edeb7",
   "metadata": {},
   "outputs": [
    {
     "name": "stderr",
     "output_type": "stream",
     "text": [
      "2024-08-02 16:32:59.507603: I tensorflow/core/platform/cpu_feature_guard.cc:210] This TensorFlow binary is optimized to use available CPU instructions in performance-critical operations.\n",
      "To enable the following instructions: SSE4.1 SSE4.2 AVX AVX2 FMA, in other operations, rebuild TensorFlow with the appropriate compiler flags.\n"
     ]
    }
   ],
   "source": [
    "import numpy as np\n",
    "import pandas as pd\n",
    "import matplotlib.pyplot as plt\n",
    "import tensorflow as tf\n",
    "import keras\n",
    "import keras_tuner\n",
    "from dataclasses import dataclass\n",
    "from typing import List\n",
    "from keras import layers, ops\n",
    "from keras.utils import timeseries_dataset_from_array\n",
    "from sklearn.metrics import mean_squared_error\n",
    "from sklearn.preprocessing import MinMaxScaler\n",
    "%matplotlib inline\n",
    "\n",
    "from processing import split_indices, make_stationary, inverse_stationary, scale, unscale, sequence, Stationarizer, Normalizer\n",
    "from tuner import LSTMLayerHyperparams, ModelHyperparams\n",
    "from plotting import visualize_loss, show_plot\n",
    "from model_builder import get_model, build_model, get_tuner"
   ]
  },
  {
   "cell_type": "code",
   "execution_count": 2,
   "id": "7ae81b31-1c4c-4b9d-b26a-f934e1ee5763",
   "metadata": {},
   "outputs": [],
   "source": [
    "data = pd.read_csv(\"data/YF_AAPL.csv\")[\"Adj Close\"].to_numpy().reshape(-1, 1)\n",
    "\n",
    "train_idx = int(0.7 * np.shape(data)[0])\n",
    "val_idx = int(0.85 * np.shape(data)[0])\n",
    "\n",
    "train_data = data[:train_idx]\n",
    "val_data = data[train_idx:val_idx]\n",
    "test_data = data[val_idx:]"
   ]
  },
  {
   "cell_type": "code",
   "execution_count": 3,
   "id": "401c9db6-a76b-4b2f-a3b6-6a20ee7208ef",
   "metadata": {},
   "outputs": [],
   "source": [
    "#train_stater = Stationarizer()\n",
    "#val_stater = Stationarizer()\n",
    "#normer = Normalizer()\n",
    "normer = MinMaxScaler(feature_range=(0, 1), clip=True)\n",
    "#train_data = train_stater.fit_transform(train_data)\n",
    "#val_data = val_stater.fit_transform(val_data)\n",
    "train_data = normer.fit_transform(train_data)\n",
    "val_data = normer.transform(val_data)"
   ]
  },
  {
   "cell_type": "code",
   "execution_count": 4,
   "id": "429e28e9-f577-4bf1-ad11-e82578865590",
   "metadata": {},
   "outputs": [
    {
     "name": "stdout",
     "output_type": "stream",
     "text": [
      "Input shape: (8, 20, 1)\n",
      "Target shape: (8, 1)\n"
     ]
    },
    {
     "name": "stderr",
     "output_type": "stream",
     "text": [
      "2024-08-02 16:33:02.245386: W tensorflow/core/framework/local_rendezvous.cc:404] Local rendezvous is aborting with status: OUT_OF_RANGE: End of sequence\n"
     ]
    }
   ],
   "source": [
    "train_ds = timeseries_dataset_from_array(\n",
    "    train_data[:-20],\n",
    "    train_data[20:],\n",
    "    sequence_length=20,\n",
    "    batch_size=8,\n",
    "    shuffle=True\n",
    ")\n",
    "val_ds = timeseries_dataset_from_array(\n",
    "    val_data[:-20],\n",
    "    val_data[20:],\n",
    "    sequence_length=20,\n",
    "    batch_size=8,\n",
    "    shuffle=False\n",
    ")\n",
    "\n",
    "for batch in train_ds.take(1):\n",
    "    inputs, targets = batch\n",
    "\n",
    "print(\"Input shape:\", inputs.numpy().shape)\n",
    "print(\"Target shape:\", targets.numpy().shape)"
   ]
  },
  {
   "cell_type": "code",
   "execution_count": null,
   "id": "7ee6cd21-be32-4f22-8859-76d485e6f15f",
   "metadata": {},
   "outputs": [
    {
     "name": "stdout",
     "output_type": "stream",
     "text": [
      "\n",
      "Search: Running Trial #1\n",
      "\n",
      "Value             |Best Value So Far |Hyperparameter\n",
      "2                 |2                 |num_layers\n",
      "112               |112               |units_0\n",
      "tanh              |tanh              |activation_0\n",
      "relu              |relu              |recurrent_activation_0\n",
      "0                 |0                 |dropout_0\n",
      "0.2               |0.2               |recurrent_dropout_0\n",
      "relu              |relu              |activation_1\n",
      "0.0022156         |0.0022156         |lr\n",
      "\n",
      "Epoch 1/20\n",
      "\u001b[1m535/535\u001b[0m \u001b[32m━━━━━━━━━━━━━━━━━━━━\u001b[0m\u001b[37m\u001b[0m \u001b[1m7s\u001b[0m 10ms/step - loss: 0.0319 - mse: 0.0319 - val_loss: 0.0046 - val_mse: 0.0046\n",
      "Epoch 2/20\n",
      "\u001b[1m535/535\u001b[0m \u001b[32m━━━━━━━━━━━━━━━━━━━━\u001b[0m\u001b[37m\u001b[0m \u001b[1m5s\u001b[0m 9ms/step - loss: 4.9582e-04 - mse: 4.9582e-04 - val_loss: 0.0016 - val_mse: 0.0016\n",
      "Epoch 3/20\n",
      "\u001b[1m535/535\u001b[0m \u001b[32m━━━━━━━━━━━━━━━━━━━━\u001b[0m\u001b[37m\u001b[0m \u001b[1m5s\u001b[0m 9ms/step - loss: 3.6154e-04 - mse: 3.6154e-04 - val_loss: 0.0038 - val_mse: 0.0038\n",
      "Epoch 4/20\n",
      "\u001b[1m535/535\u001b[0m \u001b[32m━━━━━━━━━━━━━━━━━━━━\u001b[0m\u001b[37m\u001b[0m \u001b[1m5s\u001b[0m 9ms/step - loss: 3.0053e-04 - mse: 3.0053e-04 - val_loss: 0.0025 - val_mse: 0.0025\n",
      "Epoch 5/20\n",
      "\u001b[1m535/535\u001b[0m \u001b[32m━━━━━━━━━━━━━━━━━━━━\u001b[0m\u001b[37m\u001b[0m \u001b[1m5s\u001b[0m 9ms/step - loss: 3.1358e-04 - mse: 3.1358e-04 - val_loss: 0.0017 - val_mse: 0.0017\n",
      "Epoch 6/20\n",
      "\u001b[1m535/535\u001b[0m \u001b[32m━━━━━━━━━━━━━━━━━━━━\u001b[0m\u001b[37m\u001b[0m \u001b[1m5s\u001b[0m 9ms/step - loss: 2.6300e-04 - mse: 2.6300e-04 - val_loss: 0.0022 - val_mse: 0.0022\n",
      "Epoch 7/20\n",
      "\u001b[1m535/535\u001b[0m \u001b[32m━━━━━━━━━━━━━━━━━━━━\u001b[0m\u001b[37m\u001b[0m \u001b[1m5s\u001b[0m 9ms/step - loss: 1.9582e-04 - mse: 1.9582e-04 - val_loss: 0.0014 - val_mse: 0.0014\n",
      "Epoch 8/20\n",
      "\u001b[1m535/535\u001b[0m \u001b[32m━━━━━━━━━━━━━━━━━━━━\u001b[0m\u001b[37m\u001b[0m \u001b[1m5s\u001b[0m 9ms/step - loss: 1.6383e-04 - mse: 1.6383e-04 - val_loss: 0.0019 - val_mse: 0.0019\n",
      "Epoch 9/20\n",
      "\u001b[1m535/535\u001b[0m \u001b[32m━━━━━━━━━━━━━━━━━━━━\u001b[0m\u001b[37m\u001b[0m \u001b[1m5s\u001b[0m 9ms/step - loss: 1.5274e-04 - mse: 1.5274e-04 - val_loss: 0.0018 - val_mse: 0.0018\n",
      "Epoch 10/20\n",
      "\u001b[1m535/535\u001b[0m \u001b[32m━━━━━━━━━━━━━━━━━━━━\u001b[0m\u001b[37m\u001b[0m \u001b[1m5s\u001b[0m 9ms/step - loss: 1.4019e-04 - mse: 1.4019e-04 - val_loss: 0.0022 - val_mse: 0.0022\n",
      "Epoch 11/20\n",
      "\u001b[1m535/535\u001b[0m \u001b[32m━━━━━━━━━━━━━━━━━━━━\u001b[0m\u001b[37m\u001b[0m \u001b[1m5s\u001b[0m 9ms/step - loss: 1.3257e-04 - mse: 1.3257e-04 - val_loss: 0.0039 - val_mse: 0.0039\n",
      "Epoch 12/20\n",
      "\u001b[1m365/535\u001b[0m \u001b[32m━━━━━━━━━━━━━\u001b[0m\u001b[37m━━━━━━━\u001b[0m \u001b[1m1s\u001b[0m 8ms/step - loss: 1.1751e-04 - mse: 1.1751e-04"
     ]
    }
   ],
   "source": [
    "tuner = get_tuner()\n",
    "tuner.search(train_ds, epochs=20, validation_data=val_ds)"
   ]
  },
  {
   "cell_type": "code",
   "execution_count": null,
   "id": "c6aeaff2-7526-452e-89cb-0581b0525679",
   "metadata": {},
   "outputs": [],
   "source": []
  }
 ],
 "metadata": {
  "kernelspec": {
   "display_name": "Python 3 (ipykernel)",
   "language": "python",
   "name": "python3"
  },
  "language_info": {
   "codemirror_mode": {
    "name": "ipython",
    "version": 3
   },
   "file_extension": ".py",
   "mimetype": "text/x-python",
   "name": "python",
   "nbconvert_exporter": "python",
   "pygments_lexer": "ipython3",
   "version": "3.11.9"
  }
 },
 "nbformat": 4,
 "nbformat_minor": 5
}
